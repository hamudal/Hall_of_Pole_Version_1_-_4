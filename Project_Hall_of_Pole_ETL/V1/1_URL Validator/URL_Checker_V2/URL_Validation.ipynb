{
 "cells": [
  {
   "cell_type": "code",
   "execution_count": 11,
   "metadata": {},
   "outputs": [],
   "source": [
    "import pandas as pd\n",
    "import requests\n",
    "from bs4 import BeautifulSoup\n",
    "\n",
    "import re"
   ]
  },
  {
   "cell_type": "code",
   "execution_count": 5,
   "metadata": {},
   "outputs": [
    {
     "data": {
      "text/html": [
       "<div>\n",
       "<style scoped>\n",
       "    .dataframe tbody tr th:only-of-type {\n",
       "        vertical-align: middle;\n",
       "    }\n",
       "\n",
       "    .dataframe tbody tr th {\n",
       "        vertical-align: top;\n",
       "    }\n",
       "\n",
       "    .dataframe thead th {\n",
       "        text-align: right;\n",
       "    }\n",
       "</style>\n",
       "<table border=\"1\" class=\"dataframe\">\n",
       "  <thead>\n",
       "    <tr style=\"text-align: right;\">\n",
       "      <th></th>\n",
       "      <th>URL</th>\n",
       "    </tr>\n",
       "  </thead>\n",
       "  <tbody>\n",
       "    <tr>\n",
       "      <th>0</th>\n",
       "      <td>['https://www.eversports.de/s/janine-hollung']</td>\n",
       "    </tr>\n",
       "    <tr>\n",
       "      <th>1</th>\n",
       "      <td>['https://www.eversports.de/s/pure-body-concep...</td>\n",
       "    </tr>\n",
       "    <tr>\n",
       "      <th>2</th>\n",
       "      <td>['https://www.eversports.de/s/annis-pole-dance...</td>\n",
       "    </tr>\n",
       "  </tbody>\n",
       "</table>\n",
       "</div>"
      ],
      "text/plain": [
       "                                                 URL\n",
       "0     ['https://www.eversports.de/s/janine-hollung']\n",
       "1  ['https://www.eversports.de/s/pure-body-concep...\n",
       "2  ['https://www.eversports.de/s/annis-pole-dance..."
      ]
     },
     "execution_count": 5,
     "metadata": {},
     "output_type": "execute_result"
    }
   ],
   "source": [
    "all_cities_ger_df = pd.read_csv('eversports_urls_1.csv')\n",
    "all_cities_ger_df[:3]"
   ]
  },
  {
   "cell_type": "code",
   "execution_count": 10,
   "metadata": {},
   "outputs": [
    {
     "name": "stdout",
     "output_type": "stream",
     "text": [
      "                                                 URL\n",
      "0       'https://www.eversports.de/s/janine-hollung'\n",
      "1  'https://www.eversports.de/s/pure-body-concept...\n",
      "2  'https://www.eversports.de/s/annis-pole-dance-...\n",
      "3              'https://www.eversports.ch/s/spin-up'\n",
      "4      'https://www.eversports.de/s/polefly-academy'\n"
     ]
    }
   ],
   "source": [
    "for i in range(len(all_cities_ger_df[\"URL\"])):\n",
    "    all_cities_ger_df[\"URL\"][i] = all_cities_ger_df[\"URL\"][i].strip('[]')\n",
    "print(all_cities_ger_df[:5])"
   ]
  },
  {
   "cell_type": "code",
   "execution_count": 6,
   "metadata": {},
   "outputs": [],
   "source": [
    "url_dict = {'S': [], 'SW': [], 'SK': []}\n",
    "for url in all_cities_ger_df[\"URL\"]:\n",
    "    split_url = url.split('/')\n",
    "    if len(split_url) < 5:\n",
    "        continue\n",
    "    url_type = split_url[-2]\n",
    "    if url_type in url_dict:\n",
    "        url_dict[url_type].append(url)\n",
    "\n",
    "S_df = pd.DataFrame({'URL': url_dict['S']})\n",
    "SW_df = pd.DataFrame({'URL': url_dict['SW']})\n",
    "SK_df = pd.DataFrame({'URL': url_dict['SK']})"
   ]
  },
  {
   "cell_type": "code",
   "execution_count": 8,
   "metadata": {},
   "outputs": [
    {
     "name": "stdout",
     "output_type": "stream",
     "text": [
      "0\n",
      "0\n",
      "0\n"
     ]
    }
   ],
   "source": [
    "print(len(S_df))\n",
    "print(len(SW_df))\n",
    "print(len(SK_df))\n"
   ]
  },
  {
   "cell_type": "code",
   "execution_count": 7,
   "metadata": {},
   "outputs": [
    {
     "data": {
      "text/html": [
       "<div>\n",
       "<style scoped>\n",
       "    .dataframe tbody tr th:only-of-type {\n",
       "        vertical-align: middle;\n",
       "    }\n",
       "\n",
       "    .dataframe tbody tr th {\n",
       "        vertical-align: top;\n",
       "    }\n",
       "\n",
       "    .dataframe thead th {\n",
       "        text-align: right;\n",
       "    }\n",
       "</style>\n",
       "<table border=\"1\" class=\"dataframe\">\n",
       "  <thead>\n",
       "    <tr style=\"text-align: right;\">\n",
       "      <th></th>\n",
       "      <th>URL</th>\n",
       "    </tr>\n",
       "  </thead>\n",
       "  <tbody>\n",
       "  </tbody>\n",
       "</table>\n",
       "</div>"
      ],
      "text/plain": [
       "Empty DataFrame\n",
       "Columns: [URL]\n",
       "Index: []"
      ]
     },
     "execution_count": 7,
     "metadata": {},
     "output_type": "execute_result"
    }
   ],
   "source": [
    "SW_df"
   ]
  },
  {
   "cell_type": "code",
   "execution_count": null,
   "metadata": {},
   "outputs": [],
   "source": [
    "all_cities_ger_df"
   ]
  },
  {
   "cell_type": "code",
   "execution_count": null,
   "metadata": {},
   "outputs": [],
   "source": [
    "url_list = all_cities_ger_df[\"URL\"].tolist()"
   ]
  },
  {
   "cell_type": "code",
   "execution_count": null,
   "metadata": {},
   "outputs": [],
   "source": [
    "def is_url_valid(url):\n",
    "    try:\n",
    "        response = requests.get(url)\n",
    "        if response.status_code == 200:\n",
    "            return True\n",
    "        else:\n",
    "            return False\n",
    "    except requests.exceptions.RequestException as e:\n",
    "        print(f\"Error while checking URL: {url}\\nError: {e}\")\n",
    "        return False\n"
   ]
  },
  {
   "cell_type": "code",
   "execution_count": null,
   "metadata": {},
   "outputs": [],
   "source": [
    "valid_urls = []\n",
    "\n",
    "for index, url in enumerate(url_list):\n",
    "    print(f\"Processing URL {index + 1}/{len(url_list)}: {url}\")\n",
    "    if is_url_valid(url):\n",
    "        valid_urls.append(url)\n",
    "        print(f\"URL {url} is valid.\")\n",
    "    else:\n",
    "        print(f\"URL {url} is not valid.\")\n",
    "    print(\"\\n\")\n"
   ]
  },
  {
   "cell_type": "code",
   "execution_count": null,
   "metadata": {},
   "outputs": [],
   "source": [
    "valid_urls_df = pd.DataFrame(valid_urls, columns=[\"URL\"])\n",
    "\n",
    "# assuming the URL column is named 'URL'\n",
    "valid_urls_df = valid_urls_df.drop_duplicates(subset=['Valid_URL'])\n",
    "valid_urls_df"
   ]
  },
  {
   "cell_type": "code",
   "execution_count": null,
   "metadata": {},
   "outputs": [],
   "source": [
    "# valid_urls_df.to_csv(\"valid_urls_ger.csv\", index=False)\n"
   ]
  },
  {
   "cell_type": "code",
   "execution_count": null,
   "metadata": {},
   "outputs": [],
   "source": []
  },
  {
   "cell_type": "code",
   "execution_count": 14,
   "metadata": {},
   "outputs": [
    {
     "data": {
      "text/html": [
       "<div>\n",
       "<style scoped>\n",
       "    .dataframe tbody tr th:only-of-type {\n",
       "        vertical-align: middle;\n",
       "    }\n",
       "\n",
       "    .dataframe tbody tr th {\n",
       "        vertical-align: top;\n",
       "    }\n",
       "\n",
       "    .dataframe thead th {\n",
       "        text-align: right;\n",
       "    }\n",
       "</style>\n",
       "<table border=\"1\" class=\"dataframe\">\n",
       "  <thead>\n",
       "    <tr style=\"text-align: right;\">\n",
       "      <th></th>\n",
       "      <th>URL</th>\n",
       "    </tr>\n",
       "  </thead>\n",
       "  <tbody>\n",
       "  </tbody>\n",
       "</table>\n",
       "</div>"
      ],
      "text/plain": [
       "Empty DataFrame\n",
       "Columns: [URL]\n",
       "Index: []"
      ]
     },
     "execution_count": 14,
     "metadata": {},
     "output_type": "execute_result"
    }
   ],
   "source": [
    "S_df"
   ]
  },
  {
   "cell_type": "code",
   "execution_count": 16,
   "metadata": {},
   "outputs": [
    {
     "name": "stdout",
     "output_type": "stream",
     "text": [
      "URL https://www.eversports.de/s/janine-hollung is valid.\n",
      "URL https://www.eversports.de/s/pure-body-concepts-1 is valid.\n",
      "URL https://www.eversports.de/s/annis-pole-dance-uetersen is valid.\n",
      "URL https://www.eversports.ch/s/spin-up is valid.\n",
      "URL https://www.eversports.de/s/polefly-academy is valid.\n",
      "URL https://www.eversports.de/s/pole-plus is valid.\n",
      "URL https://www.eversports.de/sw/pura-studio is valid.\n",
      "URL https://www.eversports.de/sw/poda-studio is valid.\n",
      "URL https://www.eversports.de/s/polesition-regensburg is valid.\n",
      "URL https://www.eversports.de/sw/vertical-pole-aerial-dance-1 is valid.\n",
      "URL https://www.eversports.de/s/pole-circus-a-k is valid.\n",
      "URL https://www.eversports.be/s/upsidedown-studio-bad-homburg is valid.\n",
      "URL https://www.eversports.de/sw/center-of-moving-arts is valid.\n",
      "URL https://www.eversports.de/s/a-heart-for-poledance-1 is valid.\n",
      "URL https://www.eversports.de/sw/schoenheitstanz-studio is valid.\n",
      "URL https://www.eversports.de/s/soul-flight is valid.\n",
      "URL https://www.eversports.de/s/yh-pole-and-sports-berlin is valid.\n",
      "URL https://www.eversports.ch/sw/royal-pole is valid.\n",
      "URL https://www.eversports.de/s/pole-werk-by-nelly is valid.\n",
      "URL https://www.eversports.de/s/pole-passion-bielefeld is valid.\n",
      "URL https://www.eversports.de/sw/polearize is valid.\n",
      "URL https://www.eversports.de/s/polestructions is valid.\n",
      "URL https://www.eversports.de/sw/poleroom-braunschweig is valid.\n",
      "URL https://www.eversports.de/sw/t-tanzstueck-braunschweig is valid.\n",
      "URL https://www.eversports.de/sw/stadtgazellen-bremen is valid.\n",
      "URL https://www.eversports.de/sw/polea-pole-and-aerial-dance is valid.\n",
      "URL https://www.eversports.de/s/infinity-polesports is valid.\n",
      "URL https://www.eversports.de/s/st-polestudio is valid.\n",
      "URL https://www.eversports.de/sw/poleathletix is valid.\n",
      "URL https://www.eversports.de/s/the-supergirl-studio is valid.\n",
      "URL https://www.eversports.de/sw/pole-faction-pole-dance-and-fitness is valid.\n",
      "URL https://www.eversports.de/s/koerpernah is valid.\n",
      "URL https://www.eversports.de/s/secret-moves-athletic-dance-studio is valid.\n",
      "URL https://www.eversports.de/s/bodysoul-studio-duesseldorf is valid.\n",
      "URL https://www.eversports.de/sw/poledance-nrw is valid.\n",
      "URL https://www.eversports.de/sw/pole-land is valid.\n",
      "URL https://www.eversports.de/s/infinity-polesports-eggenfelden is valid.\n",
      "URL https://www.eversports.de/s/tanzteufel is valid.\n",
      "URL https://www.eversports.de/sk/pole-and-move-heidelberg is valid.\n",
      "URL https://www.eversports.de/sw/pole-heroes is valid.\n",
      "URL https://www.eversports.de/sw/polemotions-filderstadt is valid.\n",
      "URL https://www.eversports.de/sw/seemannsbraut-poledance is valid.\n",
      "URL https://www.eversports.de/s/pole-loft is valid.\n",
      "URL https://www.eversports.de/s/lift-off-poledance-academy is valid.\n",
      "URL https://www.eversports.de/sw/upsidedown-studio-friedrichsdorf is valid.\n",
      "URL https://www.eversports.de/sw/aerialflow is valid.\n",
      "URL https://www.eversports.de/s/nisa-verticals is valid.\n",
      "URL https://www.eversports.de/sw/tsg-blau-gold-giessen-ev is valid.\n",
      "URL https://www.eversports.de/sw/polemotions-gp is valid.\n",
      "URL https://www.eversports.de/sw/glow-sports-club is valid.\n",
      "URL https://www.eversports.de/s/pole-dance-beauties is valid.\n",
      "URL https://www.eversports.de/sw/polefriends-halle is valid.\n",
      "URL https://www.eversports.de/sw/airobics is valid.\n",
      "URL https://www.eversports.de/sw/css-aerial-dance-studio is valid.\n",
      "URL https://www.eversports.de/sw/feel-good-factory-pole-stretch-fly is valid.\n",
      "URL https://www.eversports.de/sw/nordpole is valid.\n",
      "URL https://www.eversports.de/sw/soultide is valid.\n",
      "URL https://www.eversports.de/s/pole-dance-studio-passion-hannover is valid.\n",
      "URL https://www.eversports.de/sv/pole-statement is valid.\n",
      "URL https://www.eversports.de/s/polesensation is valid.\n",
      "URL https://www.eversports.de/sw/da-becca-flow-and-fit is valid.\n",
      "URL https://www.eversports.de/s/papillon-dance-and-sport-academy is valid.\n",
      "URL https://www.eversports.de/sw/pole-for-soul-gbr is valid.\n",
      "URL https://www.eversports.de/sw/polecreation is valid.\n",
      "URL https://www.eversports.de/s/pole-and-move-ketsch is valid.\n",
      "URL https://www.eversports.de/sw/pure-motion-kiel is valid.\n",
      "URL https://www.eversports.de/s/passionate-pole-and-sports is valid.\n",
      "URL https://www.eversports.de/s/polefamily-koblenz is valid.\n",
      "URL https://www.eversports.de/sw/annaconda-pole-and-fitness is valid.\n",
      "URL https://www.eversports.de/sw/pole-paradise is valid.\n",
      "URL https://www.eversports.de/s/sweatndance is valid.\n",
      "URL https://www.eversports.de/sw/aerial-loft is valid.\n",
      "URL https://www.eversports.de/sw/pole-dance-krefeld is valid.\n",
      "URL https://www.eversports.de/s/dance-and-pole-langenfeld is valid.\n",
      "URL https://www.eversports.de/sk/la-belle is valid.\n",
      "URL https://www.eversports.de/scl/aerial-circus is valid.\n",
      "URL https://www.eversports.de/sw/body-meets-soul-leipzig is valid.\n",
      "URL https://www.eversports.de/s/divapole is valid.\n",
      "URL https://www.eversports.de/sw/poledancestar is valid.\n",
      "URL https://www.eversports.de/s/polefitness-leipzig is valid.\n",
      "URL https://www.eversports.de/sw/dance-and-pole-leverkusen is valid.\n",
      "URL https://www.eversports.de/s/firstsports-polefitness is valid.\n",
      "URL https://www.eversports.de/sw/the-pole-lounge is valid.\n",
      "URL https://www.eversports.de/s/pole-and-move-mannheim/team is valid.\n",
      "URL https://www.eversports.de/sw/flexx-arts-aerial-dance-and-fitness is valid.\n",
      "URL https://www.eversports.de/s/mmc-dance-and-event-studio is valid.\n",
      "URL https://www.eversports.de/sw/health-and-shape-muenchen is valid.\n",
      "URL https://www.eversports.de/s/munich-poledance is valid.\n",
      "URL https://www.eversports.de/sw/schwerelos-muenster is valid.\n",
      "URL https://www.eversports.de/sw/balance-neumarkt is valid.\n",
      "URL https://www.eversports.de/s/annis-pole-dance-neumuenster is valid.\n",
      "URL https://www.eversports.de/s/pole-arts is valid.\n",
      "URL https://www.eversports.de/s/flow-fusion-pole-aerial-dance-studio is valid.\n",
      "URL https://www.eversports.de/sv/-pole-aerial-dance-souldance is valid.\n",
      "URL https://www.eversports.de/s/polewirbel is valid.\n",
      "URL https://www.eversports.de/sk/stadtgazellen-studio is valid.\n",
      "URL https://www.eversports.de/sw/aerial-art-poledance is valid.\n",
      "URL https://www.eversports.de/s/poledance-area is valid.\n",
      "URL https://www.eversports.de/s/tanzschule-poledance-reutlingen is valid.\n",
      "URL https://www.eversports.de/sw/pole-oase is valid.\n",
      "URL https://www.eversports.de/s/polerinas-poledance/team is valid.\n",
      "URL https://www.eversports.de/s/poleside is valid.\n",
      "URL https://www.eversports.de/s/dance-and-pole-deltawerk is valid.\n",
      "URL https://www.eversports.de/sw/verticalarts-pole-and-aerial-fitness is valid.\n",
      "URL https://www.eversports.de/sw/polemotions-tuebingen is valid.\n",
      "URL https://www.eversports.de/s/flow-academy is valid.\n",
      "URL https://www.eversports.be/s/lift-off-poledance-academy is valid.\n",
      "URL https://www.eversports.de/s/pole-dance-palazzo-sportivo is valid.\n",
      "URL https://www.eversports.de/sw/star-poledance is valid.\n",
      "URL https://www.eversports.de/s/freaky-fitness is valid.\n",
      "URL https://www.eversports.de/s/tanzstudio-michel is valid.\n",
      "URL https://www.eversports.de/sw/vertical-pole-aerial-dance is valid.\n",
      "URL https://www.eversports.nl/sw/aerial-studio-arnhem is valid.\n",
      "URL https://www.eversports.de/sw/yoga-and-pole-art-by-selina is valid.\n",
      "URL https://www.eversports.be/sk/dunya-pole-dance-school is valid.\n",
      "URL https://www.eversports.de/s/pole-acrobatics is valid.\n"
     ]
    }
   ],
   "source": [
    "import pandas as pd\n",
    "import requests\n",
    "from bs4 import BeautifulSoup\n",
    "\n",
    "all_cities_ger_df = pd.read_csv('eversports_urls_1.csv')\n",
    "\n",
    "# remove brackets from URLs\n",
    "for i in range(len(all_cities_ger_df[\"URL\"])):\n",
    "    all_cities_ger_df[\"URL\"][i] = all_cities_ger_df[\"URL\"][i].strip('[]').strip(\"'\")\n",
    "\n",
    "\n",
    "# separate URLs by type\n",
    "url_dict = {'S': [], 'SW': [], 'SK': []}\n",
    "for url in all_cities_ger_df[\"URL\"]:\n",
    "    split_url = url.split('/')\n",
    "    if len(split_url) < 5:\n",
    "        continue\n",
    "    url_type = split_url[-2]\n",
    "    if url_type in url_dict:\n",
    "        url_dict[url_type].append(url)\n",
    "\n",
    "# create separate dataframes for each URL type\n",
    "S_df = pd.DataFrame({'URL': url_dict['S']})\n",
    "SW_df = pd.DataFrame({'URL': url_dict['SW']})\n",
    "SK_df = pd.DataFrame({'URL': url_dict['SK']})\n",
    "\n",
    "# check each URL for validity and remove duplicates\n",
    "valid_urls = []\n",
    "for index, url in enumerate(all_cities_ger_df[\"URL\"]):\n",
    "    if not url:\n",
    "        continue\n",
    "    try:\n",
    "        response = requests.get(url)\n",
    "        if response.status_code == 200:\n",
    "            if url not in valid_urls:\n",
    "                valid_urls.append(url)\n",
    "                print(f\"URL {url} is valid.\")\n",
    "            else:\n",
    "                print(f\"URL {url} is a duplicate.\")\n",
    "        else:\n",
    "            print(f\"URL {url} returned status code {response.status_code}.\")\n",
    "    except requests.exceptions.RequestException as e:\n",
    "        print(f\"Error while checking URL {url}: {e}\")\n",
    "\n",
    "# create dataframe of valid URLs\n",
    "valid_urls_df = pd.DataFrame(valid_urls, columns=[\"Valid_URL\"])\n",
    "valid_urls_df.to_csv(\"valid_eversports_urls.csv\", index=False)\n"
   ]
  }
 ],
 "metadata": {
  "kernelspec": {
   "display_name": "base",
   "language": "python",
   "name": "python3"
  },
  "language_info": {
   "codemirror_mode": {
    "name": "ipython",
    "version": 3
   },
   "file_extension": ".py",
   "mimetype": "text/x-python",
   "name": "python",
   "nbconvert_exporter": "python",
   "pygments_lexer": "ipython3",
   "version": "3.10.9"
  },
  "orig_nbformat": 4
 },
 "nbformat": 4,
 "nbformat_minor": 2
}

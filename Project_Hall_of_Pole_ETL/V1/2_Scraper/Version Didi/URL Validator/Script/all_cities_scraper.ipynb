{
 "cells": [
  {
   "cell_type": "code",
   "execution_count": 3,
   "metadata": {},
   "outputs": [],
   "source": [
    "import requests\n",
    "from bs4 import BeautifulSoup\n",
    "import pandas as pd\n"
   ]
  },
  {
   "cell_type": "code",
   "execution_count": 4,
   "metadata": {},
   "outputs": [],
   "source": [
    "url = \"https://de.wikipedia.org/wiki/Liste_der_Städte_in_Deutschland\""
   ]
  },
  {
   "cell_type": "code",
   "execution_count": 7,
   "metadata": {},
   "outputs": [
    {
     "data": {
      "text/plain": [
       "<Response [200]>"
      ]
     },
     "execution_count": 7,
     "metadata": {},
     "output_type": "execute_result"
    }
   ],
   "source": [
    "# Send a GET request to the webpage\n",
    "response = requests.get(url)\n",
    "\n",
    "# Parse the HTML content of the webpage\n",
    "soup = BeautifulSoup(requests.get(url).content, 'html.parser')\n",
    "response"
   ]
  },
  {
   "cell_type": "code",
   "execution_count": 46,
   "metadata": {},
   "outputs": [
    {
     "name": "stdout",
     "output_type": "stream",
     "text": [
      "Cities in Table 1:\n",
      "['Aach (BW)', 'Aachen (NW)', 'Aalen (BW)', 'Abenberg (BY)', 'Abensberg (BY)', 'Achern (BW)', 'Achim (NI)', 'Adelsheim (BW)', 'Adenau (RP)', 'Adorf/Vogtl. (SN)', 'Ahaus (NW)', 'Ahlen (NW)', 'Ahrensburg (SH)', 'Aichach (BY)', 'Aichtal (BW)', 'Aken (Elbe) (ST)', 'Albstadt (BW)', 'Alfeld (Leine) (NI)', 'Allendorf (Lumda) (HE)', 'Allstedt (ST)', 'Alpirsbach (BW)', 'Alsdorf (NW)', 'Alsfeld (HE)', 'Alsleben (Saale) (ST)', 'Altdorf bei Nürnberg (BY)', 'Altena (NW)', 'Altenberg (SN)', 'Altenburg (TH)', 'Altenkirchen (Westerwald) (RP)', 'Altensteig (BW)', 'Altentreptow (MV)', 'Altlandsberg (BB)', 'Altötting (BY)', 'Alzenau (BY)', 'Alzey (RP)', 'Amberg (BY)', 'Amöneburg (HE)', 'Amorbach (BY)', 'Amt Creuzburg (TH)', 'An der Schmücke (TH)', 'Andernach (RP)', 'Angermünde (BB)', 'Anklam, Hansestadt (MV)', 'Annaberg-Buchholz (SN)', 'Annaburg (ST)', 'Annweiler am Trifels (RP)', 'Ansbach (BY)', 'Apolda (TH)', 'Arendsee (Altmark) (ST)', 'Arneburg (ST)', 'Arnis (SH)', 'Arnsberg (NW)', 'Arnstadt (TH)', 'Arnstein (BY)', 'Arnstein (ST)', 'Artern (TH)', 'Arzberg (BY)', 'Aschaffenburg (BY)', 'Aschersleben (ST)', 'Asperg (BW)', 'Aßlar (HE)', 'Attendorn (NW)', 'Aub (BY)', 'Aue-Bad Schlema (SN)', 'Auerbach in der Oberpfalz (BY)', 'Auerbach/Vogtl. (SN)', 'Augsburg (BY)', 'Augustusburg (SN)', 'Aulendorf (BW)', 'Auma-Weidatal (TH)', 'Aurich (NI)']\n",
      "\n",
      "\n",
      "Cities in Table 2:\n",
      "['Babenhausen (HE)', 'Bacharach (RP)', 'Backnang (BW)', 'Bad Aibling (BY)', 'Bad Arolsen (HE)', 'Bad Belzig (BB)', 'Bad Bentheim (NI)', 'Bad Bergzabern (RP)', 'Bad Berka (TH)', 'Bad Berleburg (NW)', 'Bad Berneck im Fichtelgebirge (BY)', 'Bad Bevensen (NI)', 'Bad Bibra (ST)', 'Bad Blankenburg (TH)', 'Bad Bramstedt (SH)', 'Bad Breisig (RP)', 'Bad Brückenau (BY)', 'Bad Buchau (BW)', 'Bad Camberg (HE)', 'Bad Doberan (MV)', 'Bad Driburg (NW)', 'Bad Düben (SN)', 'Bad Dürkheim (RP)', 'Bad Dürrenberg (ST)', 'Bad Dürrheim (BW)', 'Bad Elster (SN)', 'Bad Ems (RP)', 'Baden-Baden (BW)', 'Bad Fallingbostel (NI)', 'Bad Frankenhausen/Kyffhäuser (TH)', 'Bad Freienwalde (Oder) (BB)', 'Bad Friedrichshall (BW)', 'Bad Gandersheim (NI)', 'Bad Gottleuba-Berggießhübel (SN)', 'Bad Griesbach im Rottal (BY)', 'Bad Harzburg (NI)', 'Bad Herrenalb (BW)', 'Bad Hersfeld (HE)', 'Bad Homburg vor der Höhe (HE)', 'Bad Honnef (NW)', 'Bad Hönningen (RP)', 'Bad Iburg (NI)', 'Bad Karlshafen (HE)', 'Bad Kissingen (BY)', 'Bad König (HE)', 'Bad Königshofen im Grabfeld (BY)', 'Bad Köstritz (TH)', 'Bad Kötzting (BY)', 'Bad Kreuznach (RP)', 'Bad Krozingen (BW)', 'Bad Laasphe (NW)', 'Bad Langensalza (TH)', 'Bad Lauchstädt (ST)', 'Bad Lausick (SN)', 'Bad Lauterberg im Harz (NI)', 'Bad Liebenstein (TH)', 'Bad Liebenwerda (BB)', 'Bad Liebenzell (BW)', 'Bad Lippspringe (NW)', 'Bad Lobenstein (TH)', 'Bad Marienberg (Westerwald) (RP)', 'Bad Mergentheim (BW)', 'Bad Münder am Deister (NI)', 'Bad Münstereifel (NW)', 'Bad Muskau (SN)', 'Bad Nauheim (HE)', 'Bad Nenndorf (NI)', 'Bad Neuenahr-Ahrweiler (RP)', 'Bad Neustadt an der Saale (BY)', 'Bad Oeynhausen (NW)', 'Bad Oldesloe (SH)', 'Bad Orb (HE)', 'Bad Pyrmont (NI)', 'Bad Rappenau (BW)', 'Bad Reichenhall (BY)', 'Bad Rodach (BY)', 'Bad Sachsa (NI)', 'Bad Säckingen (BW)', 'Bad Salzdetfurth (NI)', 'Bad Salzuflen (NW)', 'Bad Salzungen (TH)', 'Bad Saulgau (BW)', 'Bad Schandau (SN)', 'Bad Schmiedeberg (ST)', 'Bad Schussenried (BW)', 'Bad Schwalbach (HE)', 'Bad Schwartau (SH)', 'Bad Segeberg (SH)', 'Bad Sobernheim (RP)', 'Bad Soden am Taunus (HE)', 'Bad Soden-Salmünster (HE)', 'Bad Sooden-Allendorf (HE)', 'Bad Staffelstein (BY)', 'Bad Sulza (TH)', 'Bad Sülze (MV)', 'Bad Teinach-Zavelstein (BW)', 'Bad Tennstedt (TH)', 'Bad Tölz (BY)', 'Bad Urach (BW)', 'Bad Vilbel (HE)', 'Bad Waldsee (BW)', 'Bad Wildbad (BW)', 'Bad Wildungen (HE)', 'Bad Wilsnack (BB)', 'Bad Wimpfen (BW)', 'Bad Windsheim (BY)', 'Bad Wörishofen (BY)', 'Bad Wünnenberg (NW)', 'Bad Wurzach (BW)', 'Baesweiler (NW)', 'Baiersdorf (BY)', 'Balingen (BW)', 'Ballenstedt (ST)', 'Balve (NW)', 'Bamberg (BY)', 'Barby (ST)', 'Bargteheide (SH)', 'Barmstedt (SH)', 'Bärnau (BY)', 'Barntrup (NW)', 'Barsinghausen (NI)', 'Barth (MV)', 'Baruth/Mark (BB)', 'Bassum (NI)', 'Battenberg (Eder) (HE)', 'Baumholder (RP)', 'Baunach (BY)', 'Baunatal (HE)', 'Bautzen (SN)', 'Bayreuth (BY)', 'Bebra (HE)', 'Beckum (NW)', 'Bedburg (NW)', 'Beelitz (BB)', 'Beeskow (BB)', 'Beilngries (BY)', 'Beilstein (BW)', 'Belgern-Schildau (SN)', 'Bendorf (RP)', 'Bensheim (HE)', 'Berching (BY)', 'Berga/Elster (TH)', 'Bergen (NI)', 'Bergen auf Rügen (MV)', 'Bergheim (NW)', 'Bergisch Gladbach (NW)', 'Bergkamen (NW)', 'Bergneustadt (NW)', 'Berlin (BE, Bundeshauptstadt)', 'Bernau bei Berlin (BB)', 'Bernburg (Saale) (ST)', 'Bernkastel-Kues (RP)', 'Bernsdorf (SN)', 'Bernstadt a. d. Eigen (SN)', 'Bersenbrück (NI)', 'Besigheim (BW)', 'Betzdorf (RP)', 'Betzenstein (BY)', 'Beverungen (NW)', 'Bexbach (SL)', 'Biberach an der Riß (BW)', 'Biedenkopf (HE)', 'Bielefeld (NW)', 'Biesenthal (BB)', 'Bietigheim-Bissingen (BW)', 'Billerbeck (NW)', 'Bingen am Rhein (RP)', 'Birkenfeld (RP)', 'Bischofsheim in der Rhön (BY)', 'Bischofswerda (SN)', 'Bismark (Altmark) (ST)', 'Bitburg (RP)', 'Bitterfeld-Wolfen (ST)', 'Blankenburg (Harz) (ST)', 'Blankenhain (TH)', 'Blaubeuren (BW)', 'Blaustein (BW)', 'Bleckede (NI)', 'Bleicherode (TH)', 'Blieskastel (SL)', 'Blomberg (NW)', 'Blumberg (BW)', 'Bobingen (BY)', 'Böblingen (BW)', 'Bocholt (NW)', 'Bochum (NW)', 'Bockenem (NI)', 'Bodenwerder (NI)', 'Bogen (BY)', 'Böhlen (SN)', 'Boizenburg/Elbe (MV)', 'Bonn (NW, Bundesstadt)', 'Bonndorf im Schwarzwald (BW)', 'Bönnigheim (BW)', 'Bopfingen (BW)', 'Boppard (RP)', 'Borgentreich (NW)', 'Borgholzhausen (NW)', 'Borken (NW)', 'Borken (Hessen) (HE)', 'Borkum (NI)', 'Borna (SN)', 'Bornheim (NW)', 'Bottrop (NW)', 'Boxberg (BW)', 'Brackenheim (BW)', 'Brake (Unterweser) (NI)', 'Brakel (NW)', 'Bramsche (NI)', 'Brandenburg an der Havel (BB)', 'Brand-Erbisdorf (SN)', 'Brandis (SN)', 'Braubach (RP)', 'Braunfels (HE)', 'Braunlage (NI)', 'Bräunlingen (BW)', 'Braunsbedra (ST)', 'Braunschweig (NI)', 'Breckerfeld (NW)', 'Bredstedt (SH)', 'Breisach am Rhein (BW)', 'Bremen, Stadtgemeinde (HB)', 'Bremerhaven, Stadtgemeinde (HB)', 'Bremervörde (NI)', 'Bretten (BW)', 'Breuberg (HE)', 'Brilon (NW)', 'Brotterode-Trusetal (TH)', 'Bruchköbel (HE)', 'Bruchsal (BW)', 'Brück (BB)', 'Brüel (MV)', 'Brühl (NW)', 'Brunsbüttel (SH)', 'Brüssow (BB)', 'Buchen (Odenwald) (BW)', 'Buchholz in der Nordheide (NI)', 'Buchloe (BY)', 'Bückeburg (NI)', 'Buckow (Märkische Schweiz) (BB)', 'Büdelsdorf (SH)', 'Büdingen (HE)', 'Bühl (BW)', 'Bünde (NW)', 'Büren (NW)', 'Burg (ST)', 'Burgau (BY)', 'Burgbernheim (BY)', 'Burgdorf (NI)', 'Bürgel (TH)', 'Burghausen (BY)', 'Burgkunstadt (BY)', 'Burglengenfeld (BY)', 'Burgstädt (SN)', 'Burg Stargard (MV)', 'Burgwedel (NI)', 'Burladingen (BW)', 'Burscheid (NW)', 'Bürstadt (HE)', 'Butzbach (HE)', 'Bützow (MV)', 'Buxtehude (NI)']\n",
      "\n",
      "\n",
      "Cities in Table 3:\n",
      "['Calau (BB)', 'Calbe (Saale) (ST)', 'Calw (BW)', 'Castrop-Rauxel (NW)', 'Celle (NI)', 'Cham (BY)', 'Chemnitz (SN)', 'Clausthal-Zellerfeld (NI)', 'Clingen (TH)', 'Cloppenburg (NI)', 'Coburg (BY)', 'Cochem (RP)', 'Coesfeld (NW)', 'Colditz (SN)', 'Coswig (SN)', 'Coswig (Anhalt) (ST)', 'Cottbus (BB)', 'Crailsheim (BW)', 'Creglingen (BW)', 'Creußen (BY)', 'Crimmitschau (SN)', 'Crivitz (MV)', 'Cuxhaven (NI)']\n",
      "\n",
      "\n",
      "Cities in Table 4:\n",
      "['Daaden (RP)', 'Dachau (BY)', 'Dahlen (SN)', 'Dahme/Mark (BB)', 'Dahn (RP)', 'Damme (NI)', 'Dannenberg (Elbe) (NI)', 'Dargun (MV)', 'Darmstadt (HE)', 'Dassel (NI)', 'Dassow (MV)', 'Datteln (NW)', 'Daun (RP)', 'Deggendorf (BY)', 'Deidesheim (RP)', 'Delbrück (NW)', 'Delitzsch (SN)', 'Delmenhorst (NI)', 'Demmin, Hansestadt (MV)', 'Dessau-Roßlau (ST)', 'Detmold (NW)', 'Dettelbach (BY)', 'Dieburg (HE)', 'Diemelstadt (HE)', 'Diepholz (NI)', 'Dierdorf (RP)', 'Dietenheim (BW)', 'Dietfurt an der Altmühl (BY)', 'Dietzenbach (HE)', 'Diez (RP)', 'Dillenburg (HE)', 'Dillingen an der Donau (BY)', 'Dillingen/Saar (SL)', 'Dingelstädt (TH)', 'Dingolfing (BY)', 'Dinkelsbühl (BY)', 'Dinklage (NI)', 'Dinslaken (NW)', 'Dippoldiswalde (SN)', 'Dissen am Teutoburger Wald (NI)', 'Ditzingen (BW)', 'Döbeln (SN)', 'Doberlug-Kirchhain (BB)', 'Döbern (BB)', 'Dohna (SN)', 'Dömitz (MV)', 'Dommitzsch (SN)', 'Donaueschingen (BW)', 'Donauwörth (BY)', 'Donzdorf (BW)', 'Dorfen (BY)', 'Dormagen (NW)', 'Dornburg-Camburg (TH)', 'Dornhan (BW)', 'Dornstetten (BW)', 'Dorsten (NW)', 'Dortmund (NW)', 'Dransfeld (NI)', 'Drebkau (BB)', 'Dreieich (HE)', 'Drensteinfurt (NW)', 'Dresden (SN, Landeshauptstadt)', 'Drolshagen (NW)', 'Duderstadt (NI)', 'Duisburg (NW)', 'Dülmen (NW)', 'Düren (NW)', 'Düsseldorf (NW, Landeshauptstadt)']\n",
      "\n",
      "\n",
      "Cities in Table 5:\n",
      "['Ebeleben (TH)', 'Eberbach (BW)', 'Ebermannstadt (BY)', 'Ebern (BY)', 'Ebersbach an der Fils (BW)', 'Ebersbach-Neugersdorf (SN)', 'Ebersberg (BY)', 'Eberswalde (BB)', 'Eckartsberga (ST)', 'Eckernförde (SH)', 'Edenkoben (RP)', 'Egeln (ST)', 'Eggenfelden (BY)', 'Eggesin (MV)', 'Ehingen (Donau) (BW)', 'Ehrenfriedersdorf (SN)', 'Eibelstadt (BY)', 'Eibenstock (SN)', 'Eichstätt (BY)', 'Eilenburg (SN)', 'Einbeck (NI)', 'Eisenach (TH)', 'Eisenberg (TH)', 'Eisenberg (Pfalz) (RP)', 'Eisenhüttenstadt (BB)', 'Eisfeld (TH)', 'Eisleben, Lutherstadt (ST)', 'Eislingen/Fils (BW)', 'Ellingen (BY)', 'Ellrich (TH)', 'Ellwangen (Jagst) (BW)', 'Elmshorn (SH)', 'Elsdorf (NW)', 'Elsfleth (NI)', 'Elsterberg (SN)', 'Elsterwerda (BB)', 'Elstra (SN)', 'Elterlein (SN)', 'Eltmann (BY)', 'Eltville am Rhein (HE)', 'Elzach (BW)', 'Elze (NI)', 'Emden (NI)', 'Emmelshausen (RP)', 'Emmendingen (BW)', 'Emmerich am Rhein (NW)', 'Emsdetten (NW)', 'Endingen am Kaiserstuhl (BW)', 'Engen (BW)', 'Enger (NW)', 'Ennepetal (NW)', 'Ennigerloh (NW)', 'Eppelheim (BW)', 'Eppingen (BW)', 'Eppstein (HE)', 'Erbach (BW)', 'Erbach (Odenwald) (HE)', 'Erbendorf (BY)', 'Erding (BY)', 'Erftstadt (NW)', 'Erfurt (TH, Landeshauptstadt)', 'Erkelenz (NW)', 'Erkner (BB)', 'Erkrath (NW)', 'Erlangen (BY)', 'Erlenbach am Main (BY)', 'Erlensee (HE)', 'Erwitte (NW)', 'Eschborn (HE)', 'Eschenbach in der Oberpfalz (BY)', 'Eschershausen (NI)', 'Eschwege (HE)', 'Eschweiler (NW)', 'Esens (NI)', 'Espelkamp (NW)', 'Essen (NW)', 'Esslingen am Neckar (BW)', 'Ettenheim (BW)', 'Ettlingen (BW)', 'Euskirchen (NW)', 'Eutin (SH)']\n",
      "\n",
      "\n",
      "Cities in Table 6:\n",
      "['Falkenberg/Elster (BB)', 'Falkensee (BB)', 'Falkenstein/Harz (ST)', 'Falkenstein/Vogtl. (SN)', 'Fehmarn (SH)', 'Fellbach (BW)', 'Felsberg (HE)', 'Feuchtwangen (BY)', 'Filderstadt (BW)', 'Finsterwalde (BB)', 'Fladungen (BY)', 'Flensburg (SH)', 'Flöha (SN)', 'Flörsheim am Main (HE)', 'Florstadt (HE)', 'Forchheim (BY)', 'Forchtenberg (BW)', 'Forst (Lausitz) (BB)', 'Frankenau (HE)', 'Frankenberg (Eder) (HE)', 'Frankenberg/Sa. (SN)', 'Frankenthal (Pfalz) (RP)', 'Frankfurt am Main (HE)', 'Frankfurt (Oder) (BB)', 'Franzburg (MV)', 'Frauenstein (SN)', 'Frechen (NW)', 'Freiberg am Neckar (BW)', 'Freiberg (SN)', 'Freiburg im Breisgau (BW)', 'Freilassing (BY)', 'Freinsheim (RP)', 'Freising (BY)', 'Freital (SN)', 'Freren (NI)', 'Freudenberg (BW)', 'Freudenberg (NW)', 'Freudenstadt (BW)', 'Freyburg (Unstrut) (ST)', 'Freystadt (BY)', 'Freyung (BY)', 'Fridingen an der Donau (BW)', 'Friedberg (BY)', 'Friedberg (Hessen) (HE)', 'Friedland (BB)', 'Friedland (MV)', 'Friedrichroda (TH)', 'Friedrichsdorf (HE)', 'Friedrichshafen (BW)', 'Friedrichstadt (SH)', 'Friedrichsthal (SL)', 'Friesack (BB)', 'Friesoythe (NI)', 'Fritzlar (HE)', 'Frohburg (SN)', 'Fröndenberg/Ruhr (NW)', 'Fulda (HE)', 'Fürstenau (NI)', 'Fürstenberg/Havel (BB)', 'Fürstenfeldbruck (BY)', 'Fürstenwalde/Spree (BB)', 'Fürth (BY)', 'Furth im Wald (BY)', 'Furtwangen im Schwarzwald (BW)', 'Füssen (BY)']\n",
      "\n",
      "\n",
      "Cities in Table 7:\n",
      "['Gadebusch (MV)', 'Gaggenau (BW)', 'Gaildorf (BW)', 'Gammertingen (BW)', 'Garbsen (NI)', 'Garching bei München (BY)', 'Gardelegen (ST)', 'Garding (SH)', 'Gartz (Oder) (BB)', 'Garz/Rügen (MV)', 'Gau-Algesheim (RP)', 'Gebesee (TH)', 'Gedern (HE)', 'Geesthacht (SH)', 'Geestland (NI)', 'Gefell (TH)', 'Gefrees (BY)', 'Gehrden (NI)', 'Geilenkirchen (NW)', 'Geisa (TH)', 'Geiselhöring (BY)', 'Geisenfeld (BY)', 'Geisenheim (HE)', 'Geisingen (BW)', 'Geislingen (BW)', 'Geislingen an der Steige (BW)', 'Geithain (SN)', 'Geldern (NW)', 'Gelnhausen (HE)', 'Gelsenkirchen (NW)', 'Gemünden am Main (BY)', 'Gemünden (Wohra) (HE)', 'Gengenbach (BW)', 'Genthin (ST)', 'Georgsmarienhütte (NI)', 'Gera (TH)', 'Gerabronn (BW)', 'Gerbstedt (ST)', 'Geretsried (BY)', 'Geringswalde (SN)', 'Gerlingen (BW)', 'Germering (BY)', 'Germersheim (RP)', 'Gernsbach (BW)', 'Gernsheim (HE)', 'Gerolstein (RP)', 'Gerolzhofen (BY)', 'Gersfeld (Rhön) (HE)', 'Gersthofen (BY)', 'Gescher (NW)', 'Geseke (NW)', 'Gevelsberg (NW)', 'Geyer (SN)', 'Giengen an der Brenz (BW)', 'Gießen (HE)', 'Gifhorn (NI)', 'Ginsheim-Gustavsburg (HE)', 'Gladbeck (NW)', 'Gladenbach (HE)', 'Glashütte (SN)', 'Glauchau (SN)', 'Glinde (SH)', 'Glücksburg (Ostsee) (SH)', 'Glückstadt (SH)', 'Gnoien (MV)', 'Goch (NW)', 'Goldberg (MV)', 'Goldkronach (BY)', 'Golßen (BB)', 'Gommern (ST)', 'Göppingen (BW)', 'Görlitz (SN)', 'Goslar (NI)', 'Gößnitz (TH)', 'Gotha (TH)', 'Göttingen (NI)', 'Grabow (MV)', 'Grafenau (BY)', 'Gräfenberg (BY)', 'Gräfenhainichen (ST)', 'Gräfenthal (TH)', 'Grafenwöhr (BY)', 'Grafing bei München (BY)', 'Gransee (BB)', 'Grebenau (HE)', 'Grebenstein (HE)', 'Greding (BY)', 'Greifswald, Hansestadt (MV)', 'Greiz (TH)', 'Greußen (TH)', 'Greven (NW)', 'Grevenbroich (NW)', 'Grevesmühlen (MV)', 'Griesheim (HE)', 'Grimma (SN)', 'Grimmen (MV)', 'Gröditz (SN)', 'Groitzsch (SN)', 'Gronau (Leine) (NI)', 'Gronau (Westf.) (NW)', 'Gröningen (ST)', 'Großalmerode (HE)', 'Groß-Bieberau (HE)', 'Großbottwar (BW)', 'Großbreitenbach (TH)', 'Großenhain (SN)', 'Groß-Gerau (HE)', 'Großräschen (BB)', 'Großröhrsdorf (SN)', 'Großschirma (SN)', 'Groß-Umstadt (HE)', 'Grünberg (HE)', 'Grünhain-Beierfeld (SN)', 'Grünsfeld (BW)', 'Grünstadt (RP)', 'Guben (BB)', 'Gudensberg (HE)', 'Güglingen (BW)', 'Gummersbach (NW)', 'Gundelfingen an der Donau (BY)', 'Gundelsheim (BW)', 'Günzburg (BY)', 'Gunzenhausen (BY)', 'Güsten (ST)', 'Güstrow (MV)', 'Gütersloh (NW)', 'Gützkow (MV)']\n",
      "\n",
      "\n",
      "Cities in Table 8:\n",
      "['Haan (NW)', 'Hachenburg (RP)', 'Hadamar (HE)', 'Hagen (NW)', 'Hagenbach (RP)', 'Hagenow (MV)', 'Haiger (HE)', 'Haigerloch (BW)', 'Hainichen (SN)', 'Haiterbach (BW)', 'Halberstadt (ST)', 'Haldensleben (ST)', 'Halle (Saale) (ST)', 'Halle (Westf.) (NW)', 'Hallenberg (NW)', 'Hallstadt (BY)', 'Haltern am See (NW)', 'Halver (NW)', 'Hamburg, Freie und Hansestadt (HH)', 'Hameln (NI)', 'Hamm (NW)', 'Hammelburg (BY)', 'Hamminkeln (NW)', 'Hanau (HE)', 'Hannover (NI, Landeshauptstadt)', 'Hann. Münden (NI)', 'Harburg (Schwaben) (BY)', 'Hardegsen (NI)', 'Haren (Ems) (NI)', 'Harsewinkel (NW)', 'Hartenstein (SN)', 'Hartha (SN)', 'Harzgerode (ST)', 'Haselünne (NI)', 'Haslach im Kinzigtal (BW)', 'Haßfurt (BY)', 'Hattersheim am Main (HE)', 'Hattingen (NW)', 'Hatzfeld (Eder) (HE)', 'Hausach (BW)', 'Hauzenberg (BY)', 'Havelberg (ST)', 'Havelsee (BB)', 'Hayingen (BW)', 'Hechingen (BW)', 'Hecklingen (ST)', 'Heide (SH)', 'Heideck (BY)', 'Heidelberg (BW)', 'Heidenau (SN)', 'Heidenheim an der Brenz (BW)', 'Heilbad Heiligenstadt (TH)', 'Heilbronn (BW)', 'Heiligenhafen (SH)', 'Heiligenhaus (NW)', 'Heilsbronn (BY)', 'Heimbach (NW)', 'Heimsheim (BW)', 'Heinsberg (NW)', 'Heitersheim (BW)', 'Heldburg (TH)', 'Helmbrechts (BY)', 'Helmstedt (NI)', 'Hemau (BY)', 'Hemer (NW)', 'Hemmingen (NI)', 'Hemmoor (NI)', 'Hemsbach (BW)', 'Hennef (Sieg) (NW)', 'Hennigsdorf (BB)', 'Heppenheim (Bergstraße) (HE)', 'Herbolzheim (BW)', 'Herborn (HE)', 'Herbrechtingen (BW)', 'Herbstein (HE)', 'Herdecke (NW)', 'Herdorf (RP)', 'Herford (NW)', 'Heringen/Helme (TH)', 'Heringen (Werra) (HE)', 'Hermeskeil (RP)', 'Hermsdorf (TH)', 'Herne (NW)', 'Herrenberg (BW)', 'Herrieden (BY)', 'Herrnhut (SN)', 'Hersbruck (BY)', 'Herten (NW)', 'Herzberg am Harz (NI)', 'Herzberg (Elster) (BB)', 'Herzogenaurach (BY)', 'Herzogenrath (NW)', 'Hessisch Lichtenau (HE)', 'Hessisch Oldendorf (NI)', 'Hettingen (BW)', 'Hettstedt (ST)', 'Heubach (BW)', 'Heusenstamm (HE)', 'Hilchenbach (NW)', 'Hildburghausen (TH)', 'Hilden (NW)', 'Hildesheim (NI)', 'Hillesheim (RP)', 'Hilpoltstein (BY)', 'Hirschau (BY)', 'Hirschberg (TH)', 'Hirschhorn (Neckar) (HE)', 'Hitzacker (Elbe) (NI)', 'Hochheim am Main (HE)', 'Höchstadt an der Aisch (BY)', 'Höchstädt an der Donau (BY)', 'Hockenheim (BW)', 'Hof (BY)', 'Hofgeismar (HE)', 'Hofheim am Taunus (HE)', 'Hofheim in Unterfranken (BY)', 'Hohenberg an der Eger (BY)', 'Hohenleuben (TH)', 'Hohenmölsen (ST)', 'Hohen Neuendorf (BB)', 'Hohenstein-Ernstthal (SN)', 'Hohnstein (SN)', 'Höhr-Grenzhausen (RP)', 'Hollfeld (BY)', 'Holzgerlingen (BW)', 'Holzminden (NI)', 'Homberg (Efze) (HE)', 'Homberg (Ohm) (HE)', 'Homburg (SL)', 'Horb am Neckar (BW)', 'Hornbach (RP)', 'Horn-Bad Meinberg (NW)', 'Hornberg (BW)', 'Hörstel (NW)', 'Horstmar (NW)', 'Höxter (NW)', 'Hoya (NI)', 'Hoyerswerda (SN)', 'Hückelhoven (NW)', 'Hückeswagen (NW)', 'Hüfingen (BW)', 'Hünfeld (HE)', 'Hungen (HE)', 'Hürth (NW)', 'Husum (SH)']\n",
      "\n",
      "\n",
      "Cities in Table 9:\n",
      "['Ibbenbüren (NW)', 'Ichenhausen (BY)', 'Idar-Oberstein (RP)', 'Idstein (HE)', 'Illertissen (BY)', 'Ilmenau (TH)', 'Ilsenburg (Harz) (ST)', 'Ilshofen (BW)', 'Immenhausen (HE)', 'Immenstadt im Allgäu (BY)', 'Ingelfingen (BW)', 'Ingelheim am Rhein (RP)', 'Ingolstadt (BY)', 'Iphofen (BY)', 'Iserlohn (NW)', 'Isny im Allgäu (BW)', 'Isselburg (NW)', 'Itzehoe (SH)']\n",
      "\n",
      "\n",
      "Cities in Table 10:\n",
      "['Jarmen (MV)', 'Jena (TH)', 'Jerichow (ST)', 'Jessen (Elster) (ST)', 'Jever (NI)', 'Joachimsthal (BB)', 'Johanngeorgenstadt (SN)', 'Jöhstadt (SN)', 'Jüchen (NW)', 'Jülich (NW)', 'Jüterbog (BB)']\n",
      "\n",
      "\n",
      "Cities in Table 11:\n",
      "['Kaarst (NW)', 'Kahla (TH)', 'Kaisersesch (RP)', 'Kaiserslautern (RP)', 'Kalbe (Milde) (ST)', 'Kalkar (NW)', 'Kaltenkirchen (SH)', 'Kaltennordheim (TH)', 'Kamen (NW)', 'Kamenz (SN)', 'Kamp-Lintfort (NW)', 'Kandel (RP)', 'Kandern (BW)', 'Kappeln (SH)', 'Karben (HE)', 'Karlsruhe (BW)', 'Karlstadt (BY)', 'Kassel (HE)', 'Kastellaun (RP)', 'Katzenelnbogen (RP)', 'Kaub (RP)', 'Kaufbeuren (BY)', 'Kehl (BW)', 'Kelbra (Kyffhäuser) (ST)', 'Kelheim (BY)', 'Kelkheim (Taunus) (HE)', 'Kellinghusen (SH)', 'Kelsterbach (HE)', 'Kemberg (ST)', 'Kemnath (BY)', 'Kempen (NW)', 'Kempten (Allgäu) (BY)', 'Kenzingen (BW)', 'Kerpen (NW)', 'Ketzin/Havel (BB)', 'Kevelaer (NW)', 'Kiel (SH, Landeshauptstadt)', 'Kierspe (NW)', 'Kirchberg (SN)', 'Kirchberg an der Jagst (BW)', 'Kirchberg (Hunsrück) (RP)', 'Kirchen (Sieg) (RP)', 'Kirchenlamitz (BY)', 'Kirchhain (HE)', 'Kirchheimbolanden (RP)', 'Kirchheim unter Teck (BW)', 'Kirn (RP)', 'Kirtorf (HE)', 'Kitzingen (BY)', 'Kitzscher (SN)', 'Kleve (NW)', 'Klingenberg am Main (BY)', 'Klingenthal (SN)', 'Klötze (ST)', 'Klütz (MV)', 'Knittlingen (BW)', 'Koblenz (RP)', 'Kolbermoor (BY)', 'Kölleda (TH)', 'Köln (NW)', 'Königsberg in Bayern (BY)', 'Königsbrück (SN)', 'Königsbrunn (BY)', 'Königsee (TH)', 'Königslutter am Elm (NI)', 'Königstein im Taunus (HE)', 'Königstein (Sächsische Schweiz) (SN)', 'Königswinter (NW)', 'Königs Wusterhausen (BB)', 'Könnern (ST)', 'Konstanz (BW)', 'Konz (RP)', 'Korbach (HE)', 'Korntal-Münchingen (BW)', 'Kornwestheim (BW)', 'Korschenbroich (NW)', 'Köthen (Anhalt) (ST)', 'Kraichtal (BW)', 'Krakow am See (MV)', 'Kranichfeld (TH)', 'Krautheim (BW)', 'Krefeld (NW)', 'Kremmen (BB)', 'Krempe (SH)', 'Kreuztal (NW)', 'Kronach (BY)', 'Kronberg im Taunus (HE)', 'Kröpelin (MV)', 'Kroppenstedt (ST)', 'Krumbach (Schwaben) (BY)', 'Kühlungsborn (MV)', 'Kulmbach (BY)', 'Külsheim (BW)', 'Künzelsau (BW)', 'Kupferberg (BY)', 'Kuppenheim (BW)', 'Kusel (RP)', 'Kyllburg (RP)', 'Kyritz (BB)']\n",
      "\n",
      "\n",
      "Cities in Table 12:\n",
      "['Laage (MV)', 'Laatzen (NI)', 'Ladenburg (BW)', 'Lage (NW)', 'Lahnstein (RP)', 'Lahr/Schwarzwald (BW)', 'Laichingen (BW)', 'Lambrecht (Pfalz) (RP)', 'Lampertheim (HE)', 'Landau an der Isar (BY)', 'Landau in der Pfalz (RP)', 'Landsberg am Lech (BY)', 'Landsberg (ST)', 'Landshut (BY)', 'Landstuhl (RP)', 'Langelsheim (NI)', 'Langen (HE)', 'Langenau (BW)', 'Langenburg (BW)', 'Langenfeld (Rheinland) (NW)', 'Langenhagen (NI)', 'Langenselbold (HE)', 'Langenzenn (BY)', 'Lassan (MV)', 'Laubach (HE)', 'Laucha an der Unstrut (ST)', 'Lauchhammer (BB)', 'Lauchheim (BW)', 'Lauda-Königshofen (BW)', 'Lauenburg/Elbe (SH)', 'Lauf an der Pegnitz (BY)', 'Laufen (BY)', 'Laufenburg (Baden) (BW)', 'Lauffen am Neckar (BW)', 'Lauingen (Donau) (BY)', 'Laupheim (BW)', 'Lauscha (TH)', 'Lauta (SN)', 'Lauter-Bernsbach (SN)', 'Lauterbach (HE)', 'Lauterecken (RP)', 'Lauterstein (BW)', 'Lebach (SL)', 'Lebus (BB)', 'Leer (Ostfriesland) (NI)', 'Lehesten (TH)', 'Lehrte (NI)', 'Leichlingen (Rheinland) (NW)', 'Leimen (BW)', 'Leinefelde-Worbis (TH)', 'Leinfelden-Echterdingen (BW)', 'Leingarten (BW)', 'Leipheim (BY)', 'Leipzig (SN)', 'Leisnig (SN)', 'Lemgo (NW)', 'Lengenfeld (SN)', 'Lengerich (NW)', 'Lennestadt (NW)', 'Lenzen (Elbe) (BB)', 'Leonberg (BW)', 'Leun (HE)', 'Leuna (ST)', 'Leutenberg (TH)', 'Leutershausen (BY)', 'Leutkirch im Allgäu (BW)', 'Leverkusen (NW)', 'Lich (HE)', 'Lichtenau (BW)', 'Lichtenau (NW)', 'Lichtenberg (BY)', 'Lichtenfels (BY)', 'Lichtenfels (HE)', 'Lichtenstein/Sa. (SN)', 'Liebenau (HE)', 'Liebenwalde (BB)', 'Lieberose (BB)', 'Liebstadt (SN)', 'Limbach-Oberfrohna (SN)', 'Limburg an der Lahn (HE)', 'Lindau (Bodensee) (BY)', 'Linden (HE)', 'Lindenberg im Allgäu (BY)', 'Lindenfels (HE)', 'Lindow (Mark) (BB)', 'Lingen (Ems) (NI)', 'Linnich (NW)', 'Linz am Rhein (RP)', 'Lippstadt (NW)', 'Löbau (SN)', 'Löffingen (BW)', 'Lohmar (NW)', 'Lohne (Oldenburg) (NI)', 'Löhne (NW)', 'Lohr am Main (BY)', 'Loitz (MV)', 'Lollar (HE)', 'Lommatzsch (SN)', 'Löningen (NI)', 'Lorch (BW)', 'Lorch (HE)', 'Lörrach (BW)', 'Lorsch (HE)', 'Lößnitz (SN)', 'Löwenstein (BW)', 'Lübbecke (NW)', 'Lübben (Spreewald) (BB)', 'Lübbenau/Spreewald (BB)', 'Lübeck, Hansestadt (SH)', 'Lübtheen (MV)', 'Lübz (MV)', 'Lüchow (Wendland) (NI)', 'Lucka (TH)', 'Luckau (BB)', 'Luckenwalde (BB)', 'Lüdenscheid (NW)', 'Lüdinghausen (NW)', 'Ludwigsburg (BW)', 'Ludwigsfelde (BB)', 'Ludwigshafen am Rhein (RP)', 'Ludwigslust (MV)', 'Ludwigsstadt (BY)', 'Lugau (SN)', 'Lügde (NW)', 'Lüneburg, Hansestadt (NI)', 'Lünen (NW)', 'Lunzenau (SN)', 'Lütjenburg (SH)', 'Lützen (ST)', 'Lychen (BB)']\n",
      "\n",
      "\n",
      "Cities in Table 13:\n",
      "['Magdala (TH)', 'Magdeburg (ST, Landeshauptstadt)', 'Mahlberg (BW)', 'Mainbernheim (BY)', 'Mainburg (BY)', 'Maintal (HE)', 'Mainz (RP, Landeshauptstadt)', 'Malchin (MV)', 'Malchow (MV)', 'Manderscheid (RP)', 'Mannheim (BW)', 'Mansfeld (ST)', 'Marbach am Neckar (BW)', 'Marburg (HE)', 'Marienberg (SN)', 'Marienmünster (NW)', 'Markdorf (BW)', 'Markgröningen (BW)', 'Märkisch Buchholz (BB)', 'Markkleeberg (SN)', 'Markneukirchen (SN)', 'Markranstädt (SN)', 'Marktbreit (BY)', 'Marktheidenfeld (BY)', 'Marktleuthen (BY)', 'Marktoberdorf (BY)', 'Marktredwitz (BY)', 'Marktsteft (BY)', 'Marl (NW)', 'Marlow (MV)', 'Marne (SH)', 'Marsberg (NW)', 'Maulbronn (BW)', 'Maxhütte-Haidhof (BY)', 'Mayen (RP)', 'Mechernich (NW)', 'Meckenheim (NW)', 'Medebach (NW)', 'Meerane (SN)', 'Meerbusch (NW)', 'Meersburg (BW)', 'Meinerzhagen (NW)', 'Meiningen (TH)', 'Meisenheim (RP)', 'Meißen (SN)', 'Meldorf (SH)', 'Melle (NI)', 'Mellrichstadt (BY)', 'Melsungen (HE)', 'Memmingen (BY)', 'Menden (Sauerland) (NW)', 'Mendig (RP)', 'Mengen (BW)', 'Meppen (NI)', 'Merkendorf (BY)', 'Merseburg (ST)', 'Merzig (SL)', 'Meschede (NW)', 'Meßkirch (BW)', 'Meßstetten (BW)', 'Mettmann (NW)', 'Metzingen (BW)', 'Meuselwitz (TH)', 'Meyenburg (BB)', 'Michelstadt (HE)', 'Miesbach (BY)', 'Miltenberg (BY)', 'Mindelheim (BY)', 'Minden (NW)', 'Mirow (MV)', 'Mittenwalde (BB)', 'Mitterteich (BY)', 'Mittweida (SN)', 'Möckern (ST)', 'Möckmühl (BW)', 'Moers (NW)', 'Mölln (SH)', 'Mönchengladbach (NW)', 'Monheim (BY)', 'Monheim am Rhein (NW)', 'Monschau (NW)', 'Montabaur (RP)', 'Moosburg an der Isar (BY)', 'Mörfelden-Walldorf (HE)', 'Moringen (NI)', 'Mosbach (BW)', 'Mössingen (BW)', 'Mücheln (Geiseltal) (ST)', 'Mügeln (SN)', 'Mühlacker (BW)', 'Mühlberg/Elbe (BB)', 'Mühldorf am Inn (BY)', 'Mühlhausen/Thüringen (TH)', 'Mühlheim am Main (HE)', 'Mühlheim an der Donau (BW)', 'Mülheim an der Ruhr (NW)', 'Mülheim-Kärlich (RP)', 'Müllheim im Markgräflerland (BW)', 'Müllrose (BB)', 'Münchberg (BY)', 'Müncheberg (BB)', 'München (BY, Landeshauptstadt)', 'Münchenbernsdorf (TH)', 'Munderkingen (BW)', 'Münnerstadt (BY)', 'Münsingen (BW)', 'Munster (NI)', 'Münster (NW)', 'Münstermaifeld (RP)', 'Münzenberg (HE)', 'Murrhardt (BW)']\n",
      "\n",
      "\n",
      "Cities in Table 14:\n",
      "['Nabburg (BY)', 'Nagold (BW)', 'Naila (BY)', 'Nassau (RP)', 'Nastätten (RP)', 'Nauen (BB)', 'Naumburg (HE)', 'Naumburg (Saale) (ST)', 'Naunhof (SN)', 'Nebra (Unstrut) (ST)', 'Neckarbischofsheim (BW)', 'Neckargemünd (BW)', 'Neckarsteinach (HE)', 'Neckarsulm (BW)', 'Neresheim (BW)', 'Netphen (NW)', 'Nettetal (NW)', 'Netzschkau (SN)', 'Neu-Anspach (HE)', 'Neubrandenburg (MV)', 'Neubukow (MV)', 'Neubulach (BW)', 'Neuburg an der Donau (BY)', 'Neudenau (BW)', 'Neuenbürg (BW)', 'Neuenburg am Rhein (BW)', 'Neuenhaus (NI)', 'Neuenrade (NW)', 'Neuenstadt am Kocher (BW)', 'Neuenstein (BW)', 'Neuerburg (RP)', 'Neuffen (BW)', 'Neuhaus am Rennweg (TH)', 'Neu-Isenburg (HE)', 'Neukalen (MV)', 'Neukirchen (HE)', 'Neukirchen-Vluyn (NW)', 'Neukloster (MV)', 'Neumark (TH)', 'Neumarkt in der Oberpfalz (BY)', 'Neumarkt-Sankt Veit (BY)', 'Neumünster (SH)', 'Neunburg vorm Wald (BY)', 'Neunkirchen (SL)', 'Neuötting (BY)', 'Neuruppin (BB)', 'Neusalza-Spremberg (SN)', 'Neusäß (BY)', 'Neuss (NW)', 'Neustadt am Kulm (BY)', 'Neustadt am Rübenberge (NI)', 'Neustadt an der Aisch (BY)', 'Neustadt an der Donau (BY)', 'Neustadt an der Orla (TH)', 'Neustadt an der Waldnaab (BY)', 'Neustadt an der Weinstraße (RP)', 'Neustadt bei Coburg (BY)', 'Neustadt (Dosse) (BB)', 'Neustadt-Glewe (MV)', 'Neustadt (Hessen) (HE)', 'Neustadt in Holstein (SH)', 'Neustadt in Sachsen (SN)', 'Neustrelitz (MV)', 'Neutraubling (BY)', 'Neu-Ulm (BY)', 'Neuwied (RP)', 'Nidda (HE)', 'Niddatal (HE)', 'Nidderau (HE)', 'Nideggen (NW)', 'Niebüll (SH)', 'Niedenstein (HE)', 'Niederkassel (NW)', 'Niedernhall (BW)', 'Nieder-Olm (RP)', 'Niederstetten (BW)', 'Niederstotzingen (BW)', 'Nieheim (NW)', 'Niemegk (BB)', 'Nienburg (Saale) (ST)', 'Nienburg/Weser (NI)', 'Nierstein (RP)', 'Niesky (SN)', 'Nittenau (BY)', 'Norden (NI)', 'Nordenham (NI)', 'Norderney (NI)', 'Norderstedt (SH)', 'Nordhausen (TH)', 'Nordhorn (NI)', 'Nördlingen (BY)', 'Northeim (NI)', 'Nortorf (SH)', 'Nossen (SN)', 'Nottertal-Heilinger Höhen (TH)', 'Nürnberg (BY)', 'Nürtingen (BW)']\n",
      "\n",
      "\n",
      "Cities in Table 15:\n",
      "['Oberasbach (BY)', 'Oberharz am Brocken (ST)', 'Oberhausen (NW)', 'Oberhof (TH)', 'Oberkirch (BW)', 'Oberkochen (BW)', 'Oberlungwitz (SN)', 'Obermoschel (RP)', 'Obernburg am Main (BY)', 'Oberndorf am Neckar (BW)', 'Obernkirchen (NI)', 'Ober-Ramstadt (HE)', 'Oberriexingen (BW)', 'Obertshausen (HE)', 'Oberursel (Taunus) (HE)', 'Oberviechtach (BY)', 'Oberwesel (RP)', 'Oberwiesenthal (SN)', 'Oberzent (HE)', 'Ochsenfurt (BY)', 'Ochsenhausen (BW)', 'Ochtrup (NW)', 'Oderberg (BB)', 'Oebisfelde-Weferlingen (ST)', 'Oederan (SN)', 'Oelde (NW)', 'Oelsnitz/Erzgeb. (SN)', 'Oelsnitz/Vogtl. (SN)', 'Oer-Erkenschwick (NW)', 'Oerlinghausen (NW)', 'Oestrich-Winkel (HE)', 'Oettingen in Bayern (BY)', 'Offenbach am Main (HE)', 'Offenburg (BW)', 'Ohrdruf (TH)', 'Öhringen (BW)', 'Olbernhau (SN)', 'Olching (BY)', 'Oldenburg (Oldb) (NI)', 'Oldenburg in Holstein (SH)', 'Olfen (NW)', 'Olpe (NW)', 'Olsberg (NW)', 'Oppenau (BW)', 'Oppenheim (RP)', 'Oranienbaum-Wörlitz (ST)', 'Oranienburg (BB)', 'Orlamünde (TH)', 'Ornbau (BY)', 'Ortenberg (HE)', 'Ortrand (BB)', 'Oschatz (SN)', 'Oschersleben (Bode) (ST)', 'Osnabrück (NI)', 'Osterburg (Altmark) (ST)', 'Osterburken (BW)', 'Osterfeld (ST)', 'Osterhofen (BY)', 'Osterholz-Scharmbeck (NI)', 'Osterode am Harz (NI)', 'Osterwieck (ST)', 'Ostfildern (BW)', 'Ostheim vor der Rhön (BY)', 'Osthofen (RP)', 'Östringen (BW)', 'Ostritz (SN)', 'Otterberg (RP)', 'Otterndorf (NI)', 'Ottweiler (SL)', 'Overath (NW)', 'Owen (BW)']\n",
      "\n",
      "\n",
      "Cities in Table 16:\n",
      "['Paderborn (NW)', 'Papenburg (NI)', 'Pappenheim (BY)', 'Parchim (MV)', 'Parsberg (BY)', 'Pasewalk (MV)', 'Passau (BY)', 'Pattensen (NI)', 'Pausa-Mühltroff (SN)', 'Pegau (SN)', 'Pegnitz (BY)', 'Peine (NI)', 'Peitz (BB)', 'Penig (SN)', 'Penkun (MV)', 'Penzberg (BY)', 'Penzlin (MV)', 'Perleberg (BB)', 'Petershagen (NW)', 'Pfaffenhofen an der Ilm (BY)', 'Pfarrkirchen (BY)', 'Pforzheim (BW)', 'Pfreimd (BY)', 'Pfullendorf (BW)', 'Pfullingen (BW)', 'Pfungstadt (HE)', 'Philippsburg (BW)', 'Pinneberg (SH)', 'Pirmasens (RP)', 'Pirna (SN)', 'Plattling (BY)', 'Plau am See (MV)', 'Plaue (TH)', 'Plauen (SN)', 'Plettenberg (NW)', 'Pleystein (BY)', 'Plochingen (BW)', 'Plön (SH)', 'Pockau-Lengefeld (SN)', 'Pocking (BY)', 'Pohlheim (HE)', 'Polch (RP)', 'Porta Westfalica (NW)', 'Pößneck (TH)', 'Potsdam (BB, Landeshauptstadt)', 'Pottenstein (BY)', 'Preetz (SH)', 'Premnitz (BB)', 'Prenzlau (BB)', 'Pressath (BY)', 'Preußisch Oldendorf (NW)', 'Prichsenstadt (BY)', 'Pritzwalk (BB)', 'Prüm (RP)', 'Puchheim (BY)', 'Pulheim (NW)', 'Pulsnitz (SN)', 'Putbus (MV)', 'Putlitz (BB)', 'Püttlingen (SL)']\n",
      "\n",
      "\n",
      "Cities in Table 17:\n",
      "['Quakenbrück (NI)', 'Quedlinburg (ST)', 'Querfurt (ST)', 'Quickborn (SH)']\n",
      "\n",
      "\n",
      "Cities in Table 18:\n",
      "['Rabenau (SN)', 'Radeberg (SN)', 'Radebeul (SN)', 'Radeburg (SN)', 'Radevormwald (NW)', 'Radolfzell am Bodensee (BW)', 'Raguhn-Jeßnitz (ST)', 'Rahden (NW)', 'Rain (BY)', 'Ramstein-Miesenbach (RP)', 'Ranis (TH)', 'Ransbach-Baumbach (RP)', 'Rastatt (BW)', 'Rastenberg (TH)', 'Rathenow (BB)', 'Ratingen (NW)', 'Ratzeburg (SH)', 'Rauenberg (BW)', 'Raunheim (HE)', 'Rauschenberg (HE)', 'Ravensburg (BW)', 'Ravenstein (BW)', 'Recklinghausen (NW)', 'Rees (NW)', 'Regen (BY)', 'Regensburg (BY)', 'Regis-Breitingen (SN)', 'Rehau (BY)', 'Rehburg-Loccum (NI)', 'Rehna (MV)', 'Reichelsheim (Wetterau) (HE)', 'Reichenbach im Vogtland (SN)', 'Reichenbach/O.L. (SN)', 'Reinbek (SH)', 'Reinfeld (Holstein) (SH)', 'Reinheim (HE)', 'Remagen (RP)', 'Remscheid (NW)', 'Remseck am Neckar (BW)', 'Renchen (BW)', 'Rendsburg (SH)', 'Rennerod (RP)', 'Renningen (BW)', 'Rerik (MV)', 'Rethem (Aller) (NI)', 'Reutlingen (BW)', 'Rheda-Wiedenbrück (NW)', 'Rhede (NW)', 'Rheinau (BW)', 'Rheinbach (NW)', 'Rheinberg (NW)', 'Rheinböllen (RP)', 'Rheine (NW)', 'Rheinfelden (Baden) (BW)', 'Rheinsberg (BB)', 'Rheinstetten (BW)', 'Rhens (RP)', 'Rhinow (BB)', 'Ribnitz-Damgarten (MV)', 'Richtenberg (MV)', 'Riedenburg (BY)', 'Riedlingen (BW)', 'Riedstadt (HE)', 'Rieneck (BY)', 'Riesa (SN)', 'Rietberg (NW)', 'Rinteln (NI)', 'Röbel/Müritz (MV)', 'Rochlitz (SN)', 'Rockenhausen (RP)', 'Rodalben (RP)', 'Rodenberg (NI)', 'Rödental (BY)', 'Rödermark (HE)', 'Rodewisch (SN)', 'Rodgau (HE)', 'Roding (BY)', 'Römhild (TH)', 'Romrod (HE)', 'Ronneburg (TH)', 'Ronnenberg (NI)', 'Rosbach vor der Höhe (HE)', 'Rosenfeld (BW)', 'Rosenheim (BY)', 'Rosenthal (HE)', 'Rösrath (NW)', 'Roßleben-Wiehe (TH)', 'Roßwein (SN)', 'Rostock, Hansestadt (MV)', 'Rotenburg an der Fulda (HE)', 'Rotenburg (Wümme) (NI)', 'Roth (BY)', 'Rötha (SN)', 'Röthenbach an der Pegnitz (BY)', 'Rothenburg/O.L. (SN)', 'Rothenburg ob der Tauber (BY)', 'Rothenfels (BY)', 'Rottenburg am Neckar (BW)', 'Rottenburg a.d.Laaber (BY)', 'Röttingen (BY)', 'Rottweil (BW)', 'Rötz (BY)', 'Rüdesheim am Rhein (HE)', 'Rudolstadt (TH)', 'Ruhla (TH)', 'Ruhland (BB)', 'Runkel (HE)', 'Rüsselsheim am Main (HE)', 'Rutesheim (BW)', 'Rüthen (NW)']\n",
      "\n",
      "\n",
      "Cities in Table 19:\n",
      "['Saalburg-Ebersdorf (TH)', 'Saalfeld/Saale (TH)', 'Saarbrücken (SL, Landeshauptstadt)', 'Saarburg (RP)', 'Saarlouis (SL)', 'Sachsenhagen (NI)', 'Sachsenheim (BW)', 'Salzgitter (NI)', 'Salzkotten (NW)', 'Salzwedel, Hansestadt (ST)', 'Sandau (Elbe) (ST)', 'Sandersdorf-Brehna (ST)', 'Sangerhausen (ST)', 'Sankt Augustin (NW)', 'Sankt Goar (RP)', 'Sankt Goarshausen (RP)', 'Sarstedt (NI)', 'Sassenberg (NW)', 'Sassnitz (MV)', 'Sayda (SN)', 'Schalkau (TH)', 'Schauenstein (BY)', 'Scheer (BW)', 'Scheibenberg (SN)', 'Scheinfeld (BY)', 'Schelklingen (BW)', 'Schenefeld (SH)', 'Scheßlitz (BY)', 'Schieder-Schwalenberg (NW)', 'Schifferstadt (RP)', 'Schillingsfürst (BY)', 'Schiltach (BW)', 'Schirgiswalde-Kirschau (SN)', 'Schkeuditz (SN)', 'Schkölen (TH)', 'Schleiden (NW)', 'Schleiz (TH)', 'Schleswig (SH)', 'Schlettau (SN)', 'Schleusingen (TH)', 'Schlieben (BB)', 'Schlitz (HE)', 'Schloß Holte-Stukenbrock (NW)', 'Schlüchtern (HE)', 'Schlüsselfeld (BY)', 'Schmalkalden (TH)', 'Schmallenberg (NW)', 'Schmölln (TH)', 'Schnackenburg (NI)', 'Schnaittenbach (BY)', 'Schneeberg (SN)', 'Schneverdingen (NI)', 'Schömberg (BW)', 'Schönau (BW)', 'Schönau im Schwarzwald (BW)', 'Schönberg (MV)', 'Schönebeck (Elbe) (ST)', 'Schöneck/Vogtl. (SN)', 'Schönewalde (BB)', 'Schongau (BY)', 'Schöningen (NI)', 'Schönsee (BY)', 'Schönwald (BY)', 'Schopfheim (BW)', 'Schöppenstedt (NI)', 'Schorndorf (BW)', 'Schortens (NI)', 'Schotten (HE)', 'Schramberg (BW)', 'Schraplau (ST)', 'Schriesheim (BW)', 'Schrobenhausen (BY)', 'Schrozberg (BW)', 'Schüttorf (NI)', 'Schwaan (MV)', 'Schwabach (BY)', 'Schwäbisch Gmünd (BW)', 'Schwäbisch Hall (BW)', 'Schwabmünchen (BY)', 'Schwaigern (BW)', 'Schwalbach am Taunus (HE)', 'Schwalmstadt (HE)', 'Schwandorf (BY)', 'Schwanebeck (ST)', 'Schwarzatal (TH)', 'Schwarzenbach am Wald (BY)', 'Schwarzenbach an der Saale (BY)', 'Schwarzenbek (SH)', 'Schwarzenberg/Erzgeb. (SN)', 'Schwarzenborn (HE)', 'Schwarzheide (BB)', 'Schwedt/Oder (BB)', 'Schweich (RP)', 'Schweinfurt (BY)', 'Schwelm (NW)', 'Schwentinental (SH)', 'Schwerin (MV, Landeshauptstadt)', 'Schwerte (NW)', 'Schwetzingen (BW)', 'Sebnitz (SN)', 'Seehausen (Altmark) (ST)', 'Seeland (ST)', 'Seelow (BB)', 'Seelze (NI)', 'Seesen (NI)', 'Sehnde (NI)', 'Seifhennersdorf (SN)', 'Selb (BY)', 'Selbitz (BY)', 'Seligenstadt (HE)', 'Selm (NW)', 'Selters (Westerwald) (RP)', 'Senden (BY)', 'Sendenhorst (NW)', 'Senftenberg (BB)', 'Seßlach (BY)', 'Siegburg (NW)', 'Siegen (NW)', 'Sigmaringen (BW)', 'Simbach am Inn (BY)', 'Simmern/Hunsrück (RP)', 'Sindelfingen (BW)', 'Singen (Hohentwiel) (BW)', 'Sinsheim (BW)', 'Sinzig (RP)', 'Soest (NW)', 'Solingen (NW)', 'Solms (HE)', 'Soltau (NI)', 'Sömmerda (TH)', 'Sondershausen (TH)', 'Sonneberg (TH)', 'Sonnewalde (BB)', 'Sonthofen (BY)', 'Sontra (HE)', 'Spaichingen (BW)', 'Spalt (BY)', 'Spangenberg (HE)', 'Speicher (RP)', 'Spenge (NW)', 'Speyer (RP)', 'Spremberg (BB)', 'Springe (NI)', 'Sprockhövel (NW)', 'Stade (NI)', 'Stadtallendorf (HE)', 'Stadtbergen (BY)', 'Stadthagen (NI)', 'Stadtilm (TH)', 'Stadtlohn (NW)', 'Stadtoldendorf (NI)', 'Stadtprozelten (BY)', 'Stadtroda (TH)', 'Stadtsteinach (BY)', 'Stadt Wehlen (SN)', 'Starnberg (BY)', 'Staßfurt (ST)', 'Staufen im Breisgau (BW)', 'Staufenberg (HE)', 'Stavenhagen (MV)', 'St. Blasien (BW)', 'Stein (BY)', 'Steinach (TH)', 'Steinau an der Straße (HE)', 'Steinbach-Hallenberg (TH)', 'Steinbach (Taunus) (HE)', 'Steinfurt (NW)', 'Steinheim (NW)', 'Steinheim an der Murr (BW)', 'Stendal (ST)', 'Sternberg (MV)', 'St. Ingbert (SL)', 'St. Georgen im Schwarzwald (BW)', 'Stockach (BW)', 'Stolberg (Rheinland) (NW)', 'Stollberg/Erzgeb. (SN)', 'Stolpen (SN)', 'Storkow (Mark) (BB)', 'Stößen (ST)', 'Straelen (NW)', 'Stralsund, Hansestadt (MV)', 'Strasburg (Uckermark) (MV)', 'Straubing (BY)', 'Strausberg (BB)', 'Strehla (SN)', 'Stromberg (RP)', 'Stühlingen (BW)', 'Stutensee (BW)', 'Stuttgart (BW, Landeshauptstadt)', 'St. Wendel (SL)', 'Südliches Anhalt (ST)', 'Suhl (TH)', 'Sulingen (NI)', 'Sulz am Neckar (BW)', 'Sulzbach/Saar (SL)', 'Sulzbach-Rosenberg (BY)', 'Sulzburg (BW)', 'Sundern (Sauerland) (NW)', 'Süßen (BW)', 'Syke (NI)']\n",
      "\n",
      "\n",
      "Cities in Table 20:\n",
      "['Tambach-Dietharz (TH)', 'Tamm (BW)', 'Tangerhütte (ST)', 'Tangermünde (ST)', 'Tann (Rhön) (HE)', 'Tanna (TH)', 'Tauberbischofsheim (BW)', 'Taucha (SN)', 'Taunusstein (HE)', 'Tecklenburg (NW)', 'Tegernsee (BY)', 'Telgte (NW)', 'Teltow (BB)', 'Templin (BB)', 'Tengen (BW)', 'Tessin (MV)', 'Teterow (MV)', 'Tettnang (BW)', 'Teublitz (BY)', 'Teuchern (ST)', 'Teupitz (BB)', 'Teuschnitz (BY)', 'Thale (ST)', 'Thalheim/Erzgeb. (SN)', 'Thannhausen (BY)', 'Tharandt (SN)', 'Themar (TH)', 'Thum (SN)', 'Tirschenreuth (BY)', 'Titisee-Neustadt (BW)', 'Tittmoning (BY)', 'Todtnau (BW)', 'Töging am Inn (BY)', 'Tönisvorst (NW)', 'Tönning (SH)', 'Torgau (SN)', 'Torgelow (MV)', 'Tornesch (SH)', 'Traben-Trarbach (RP)', 'Traunreut (BY)', 'Traunstein (BY)', 'Trebbin (BB)', 'Trebsen/Mulde (SN)', 'Treffurt (TH)', 'Trendelburg (HE)', 'Treuchtlingen (BY)', 'Treuen (SN)', 'Treuenbrietzen (BB)', 'Triberg im Schwarzwald (BW)', 'Tribsees (MV)', 'Trier (RP)', 'Triptis (TH)', 'Trochtelfingen (BW)', 'Troisdorf (NW)', 'Trossingen (BW)', 'Trostberg (BY)', 'Tübingen (BW)', 'Tuttlingen (BW)', 'Twistringen (NI)']\n",
      "\n",
      "\n",
      "Cities in Table 21:\n",
      "['Übach-Palenberg (NW)', 'Überlingen (BW)', 'Uebigau-Wahrenbrück (BB)', 'Ueckermünde (MV)', 'Uelzen (NI)', 'Uetersen (SH)', 'Uffenheim (BY)', 'Uhingen (BW)', 'Ulm (BW)', 'Ulmen (RP)', 'Ulrichstein (HE)', 'Ummerstadt (TH)', 'Unkel (RP)', 'Unna (NW)', 'Unterschleißheim (BY)', 'Usedom (MV)', 'Usingen (HE)', 'Uslar (NI)']\n",
      "\n",
      "\n",
      "Cities in Table 22:\n",
      "['Vacha (TH)', 'Vaihingen an der Enz (BW)', 'Vallendar (RP)', 'Varel (NI)', 'Vechta (NI)', 'Velbert (NW)', 'Velburg (BY)', 'Velden (BY)', 'Vellberg (BW)', 'Velen (NW)', 'Vellmar (HE)', 'Velten (BB)', 'Verden (Aller) (NI)', 'Veringenstadt (BW)', 'Verl (NW)', 'Versmold (NW)', 'Vetschau/Spreewald (BB)', 'Viechtach (BY)', 'Viernheim (HE)', 'Viersen (NW)', 'Villingen-Schwenningen (BW)', 'Vilsbiburg (BY)', 'Vilseck (BY)', 'Vilshofen an der Donau (BY)', 'Visselhövede (NI)', 'Vlotho (NW)', 'Voerde (Niederrhein) (NW)', 'Vogtsburg im Kaiserstuhl (BW)', 'Vohburg an der Donau (BY)', 'Vohenstrauß (BY)', 'Vöhrenbach (BW)', 'Vöhringen (BY)', 'Volkach (BY)', 'Völklingen (SL)', 'Volkmarsen (HE)', 'Vreden (NW)']\n",
      "\n",
      "\n",
      "Cities in Table 23:\n",
      "['Wachenheim an der Weinstraße (RP)', 'Wächtersbach (HE)', 'Wadern (SL)', 'Waghäusel (BW)', 'Wahlstedt (SH)', 'Waiblingen (BW)', 'Waibstadt (BW)', 'Waischenfeld (BY)', 'Waldbröl (NW)', 'Waldeck (HE)', 'Waldenbuch (BW)', 'Waldenburg (SN)', 'Waldenburg (BW)', 'Waldershof (BY)', 'Waldheim (SN)', 'Waldkappel (HE)', 'Waldkirch (BW)', 'Waldkirchen (BY)', 'Waldkraiburg (BY)', 'Waldmohr (RP)', 'Waldmünchen (BY)', 'Waldsassen (BY)', 'Waldshut-Tiengen (BW)', 'Walldorf (BW)', 'Walldürn (BW)', 'Wallenfels (BY)', 'Walsrode (NI)', 'Waltershausen (TH)', 'Waltrop (NW)', 'Wanfried (HE)', 'Wangen im Allgäu (BW)', 'Wanzleben-Börde (ST)', 'Warburg (NW)', 'Waren (Müritz) (MV)', 'Warendorf (NW)', 'Warin (MV)', 'Warstein (NW)', 'Wassenberg (NW)', 'Wasserburg am Inn (BY)', 'Wassertrüdingen (BY)', 'Wasungen (TH)', 'Wedel (SH)', 'Weener (NI)', 'Wegberg (NW)', 'Wegeleben (ST)', 'Wehr (BW)', 'Weida (TH)', 'Weiden in der Oberpfalz (BY)', 'Weikersheim (BW)', 'Weil am Rhein (BW)', 'Weilburg (HE)', 'Weil der Stadt (BW)', 'Weilheim an der Teck (BW)', 'Weilheim in Oberbayern (BY)', 'Weimar (TH)', 'Weingarten (BW)', 'Weinheim (BW)', 'Weinsberg (BW)', 'Weinstadt (BW)', 'Weismain (BY)', 'Weißenberg (SN)', 'Weißenburg in Bayern (BY)', 'Weißenfels (ST)', 'Weißenhorn (BY)', 'Weißensee (TH)', 'Weißenstadt (BY)', 'Weißenthurm (RP)', 'Weißwasser/O.L. (SN)', 'Weiterstadt (HE)', 'Welzheim (BW)', 'Welzow (BB)', 'Wemding (BY)', 'Wendlingen am Neckar (BW)', 'Werben (Elbe) (ST)', 'Werdau (SN)', 'Werder (Havel) (BB)', 'Werdohl (NW)', 'Werl (NW)', 'Werlte (NI)', 'Wermelskirchen (NW)', 'Wernau (Neckar) (BW)', 'Werne (NW)', 'Werneuchen (BB)', 'Wernigerode (ST)', 'Werra-Suhl-Tal (TH)', 'Wertheim (BW)', 'Werther (Westf.) (NW)', 'Wertingen (BY)', 'Wesel (NW)', 'Wesenberg (MV)', 'Wesselburen (SH)', 'Wesseling (NW)', 'Westerburg (RP)', 'Westerstede (NI)', 'Wetter (Hessen) (HE)', 'Wetter (Ruhr) (NW)', 'Wettin-Löbejün (ST)', 'Wetzlar (HE)', 'Widdern (BW)', 'Wiehl (NW)', 'Wiesbaden (HE, Landeshauptstadt)', 'Wiesmoor (NI)', 'Wiesensteig (BW)', 'Wiesloch (BW)', 'Wildau (BB)', 'Wildberg (BW)', 'Wildenfels (SN)', 'Wildeshausen (NI)', 'Wilhelmshaven (NI)', 'Wilkau-Haßlau (SN)', 'Willebadessen (NW)', 'Willich (NW)', 'Wilsdruff (SN)', 'Wilster (SH)', 'Wilthen (SN)', 'Windischeschenbach (BY)', 'Windsbach (BY)', 'Winnenden (BW)', 'Winsen (Luhe) (NI)', 'Winterberg (NW)', 'Wipperfürth (NW)', 'Wirges (RP)', 'Wismar, Hansestadt (MV)', 'Wissen (RP)', 'Witten (NW)', 'Wittenberg (ST)', 'Wittenberge (BB)', 'Wittenburg (MV)', 'Wittichenau (SN)', 'Wittlich (RP)', 'Wittingen (NI)', 'Wittmund (NI)', 'Wittstock/Dosse (BB)', 'Witzenhausen (HE)', 'Woldegk (MV)', 'Wolfach (BW)', 'Wolfenbüttel (NI)', 'Wolfhagen (HE)', 'Wolframs-Eschenbach (BY)', 'Wolfratshausen (BY)', 'Wolfsburg (NI)', 'Wolfstein (RP)', 'Wolgast (MV)', 'Wolkenstein (SN)', 'Wolmirstedt (ST)', 'Worms (RP)', 'Wörrstadt (RP)', 'Wörth am Main (BY)', 'Wörth am Rhein (RP)', 'Wörth an der Donau (BY)', 'Wriezen (BB)', 'Wülfrath (NW)', 'Wunsiedel (BY)', 'Wunstorf (NI)', 'Wuppertal (NW)', 'Würselen (NW)', 'Wurzbach (TH)', 'Würzburg (BY)', 'Wurzen (SN)', 'Wustrow (Wendland) (NI)', 'Wyk auf Föhr (SH)']\n",
      "\n",
      "\n",
      "Cities in Table 24:\n",
      "['Xanten (NW)']\n",
      "\n",
      "\n",
      "Cities in Table 25:\n",
      "['Zahna-Elster (ST)', 'Zarrentin am Schaalsee (MV)', 'Zehdenick (BB)', 'Zeil am Main (BY)', 'Zeitz (ST)', 'Zell am Harmersbach (BW)', 'Zell im Wiesental (BW)', 'Zell (Mosel) (RP)', 'Zella-Mehlis (TH)', 'Zerbst/Anhalt (ST)', 'Zeulenroda-Triebes (TH)', 'Zeven (NI)', 'Ziegenrück (TH)', 'Zierenberg (HE)', 'Ziesar (BB)', 'Zirndorf (BY)', 'Zittau (SN)', 'Zörbig (ST)', 'Zossen (BB)', 'Zschopau (SN)', 'Zülpich (NW)', 'Zweibrücken (RP)', 'Zwenkau (SN)', 'Zwickau (SN)', 'Zwiesel (BY)', 'Zwingenberg (HE)', 'Zwönitz (SN)']\n",
      "\n",
      "\n",
      "                Cities\n",
      "0            Aach (BW)\n",
      "1          Aachen (NW)\n",
      "2           Aalen (BW)\n",
      "3        Abenberg (BY)\n",
      "4       Abensberg (BY)\n",
      "...                ...\n",
      "2050      Zwenkau (SN)\n",
      "2051      Zwickau (SN)\n",
      "2052      Zwiesel (BY)\n",
      "2053  Zwingenberg (HE)\n",
      "2054      Zwönitz (SN)\n",
      "\n",
      "[2055 rows x 1 columns]\n"
     ]
    }
   ],
   "source": [
    "# Find all the tables in the HTML content except the first one\n",
    "tables = soup.find_all('table')[1:]\n",
    "\n",
    "# Extract the city names from each table\n",
    "cities = []\n",
    "for table in tables:\n",
    "    cities_table = table.find_all('dd')\n",
    "    cities.append([city.text for city in cities_table])\n",
    "\n",
    "# Print the city names\n",
    "for i, city_group in enumerate(cities):\n",
    "    print(f\"Cities in Table {i+1}:\")\n",
    "    print(city_group)\n",
    "    print('\\n')\n",
    "\n",
    "# Create a dataframe from the cities list\n",
    "cities_df = pd.DataFrame({'Cities': [city for group in cities for city in group]})\n",
    "print(cities_df)"
   ]
  },
  {
   "cell_type": "code",
   "execution_count": null,
   "metadata": {},
   "outputs": [],
   "source": [
    "# To CSV\n",
    "cities_df.to_csv('cities.csv', index=False)"
   ]
  },
  {
   "cell_type": "code",
   "execution_count": null,
   "metadata": {},
   "outputs": [],
   "source": []
  }
 ],
 "metadata": {
  "kernelspec": {
   "display_name": "base",
   "language": "python",
   "name": "python3"
  },
  "language_info": {
   "codemirror_mode": {
    "name": "ipython",
    "version": 3
   },
   "file_extension": ".py",
   "mimetype": "text/x-python",
   "name": "python",
   "nbconvert_exporter": "python",
   "pygments_lexer": "ipython3",
   "version": "3.10.9"
  },
  "orig_nbformat": 4
 },
 "nbformat": 4,
 "nbformat_minor": 2
}

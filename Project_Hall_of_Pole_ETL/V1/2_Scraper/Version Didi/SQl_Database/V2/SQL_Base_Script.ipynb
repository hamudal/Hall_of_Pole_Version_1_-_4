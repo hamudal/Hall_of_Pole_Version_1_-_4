{
 "cells": [
  {
   "cell_type": "code",
   "execution_count": 1,
   "metadata": {},
   "outputs": [],
   "source": [
    "from sqlalchemy import create_engine\n",
    "from sqlalchemy import text\n",
    "import pandas as pd"
   ]
  },
  {
   "cell_type": "code",
   "execution_count": 3,
   "metadata": {},
   "outputs": [],
   "source": [
    "workshops_list_df = pd.read_csv('1_Workshops_List_Didi_Ws.csv')\n",
    "workshops_overview_df = pd.read_csv('1_Workshop_Overview_Didi_e.csv')\n",
    "polestudios_overview_df = pd.read_csv('1_PoleStudio_Overview_Didi.csv')"
   ]
  },
  {
   "cell_type": "code",
   "execution_count": 5,
   "metadata": {},
   "outputs": [
    {
     "data": {
      "text/plain": [
       "44"
      ]
     },
     "execution_count": 5,
     "metadata": {},
     "output_type": "execute_result"
    }
   ],
   "source": [
    "# SQL Setup\n",
    "host = '127.0.0.1'\n",
    "schema = 'hallofpole'\n",
    "user = 'root'\n",
    "password = 'Mysqlpark2022!'\n",
    "port = 3306\n",
    "\n",
    "# create connection string with the database name included\n",
    "con = f'mysql+pymysql://{user}:{password}@{host}:{port}/{schema}'\n",
    "\n",
    "# create sqlalchemy engine\n",
    "engine = create_engine(con)\n",
    "\n",
    "\n",
    "# Write the Workshop List to the SQL database\n",
    "workshops_list_df.to_sql(\n",
    "    name='workshop_list', con=con, if_exists='replace', index=False)\n",
    "\n",
    "# Write the DataFrame to the SQL database\n",
    "workshops_overview_df.to_sql(\n",
    "    name='workshop_overview', con=con, if_exists='replace', index=False)\n",
    "\n",
    "# Write the DataFrame to the SQL database\n",
    "polestudios_overview_df.to_sql(\n",
    "    name='pole_studio_overview', con=con, if_exists='replace', index=False)"
   ]
  }
 ],
 "metadata": {
  "kernelspec": {
   "display_name": "base",
   "language": "python",
   "name": "python3"
  },
  "language_info": {
   "codemirror_mode": {
    "name": "ipython",
    "version": 3
   },
   "file_extension": ".py",
   "mimetype": "text/x-python",
   "name": "python",
   "nbconvert_exporter": "python",
   "pygments_lexer": "ipython3",
   "version": "3.10.9"
  },
  "orig_nbformat": 4
 },
 "nbformat": 4,
 "nbformat_minor": 2
}

{
 "cells": [
  {
   "cell_type": "code",
   "execution_count": 1,
   "metadata": {},
   "outputs": [
    {
     "data": {
      "text/plain": [
       "['Video Poda MembershipOnline Videos20,00 €\\xa0/ MonatLaufzeit: 1 MonatUnbegrenzte TeilnahmenMehr erfahrenJetzt abonnieren',\n",
       " '160 €10 Einheiten 10er Karte Fit & DanceGültig 6 Monat(e) ab KaufdatumMehr erfahrenJetzt kaufen',\n",
       " '18 €1 Einheiten 1er Karte Fit & DanceGültig 1 Monat(e) ab 1. BuchungMehr erfahrenJetzt kaufen',\n",
       " '225 €10 Einheiten 10er Karte Pole & AerialGültig 6 Monat(e) ab KaufdatumMehr erfahrenJetzt kaufen',\n",
       " '40 €3 Einheiten 3 Class Welcome PackageGültig 1 Monat(e) ab KaufdatumMehr erfahrenJetzt kaufen',\n",
       " '25 €1 Einheiten 1er Karte Pole & AerialGültig 1 Monat(e) ab 1. BuchungMehr erfahrenJetzt kaufen',\n",
       " '250 €1 Einheiten Party *Junggesellinnenabschied / Geburtstag * I Pole I Chair I Lapdance I Burlesque Gültig 2 Tag(e) ab 1. BuchungMehr erfahrenJetzt kaufen',\n",
       " '60 €3 Einheiten Online Privatstunde 60 Min. 1 PersonGültig 6 Tag(e) ab KaufdatumMehr erfahrenJetzt kaufen',\n",
       " '60 €1 Einheiten Privatstunde 1x 1 Person 60 Min.Gültig 1 Monat(e) ab 1. BuchungMehr erfahrenJetzt kaufen',\n",
       " '15 €1 Einheiten Probestunde 15€Gültig 1 Jahr(e) ab 1. BuchungMehr erfahrenJetzt kaufen',\n",
       " '35 €2 Einheiten Workshop Gültig 3 Monat(e) ab 1. BuchungMehr erfahrenJetzt kaufen',\n",
       " '15 €1 Tag(e)All Videos 1 DayGültig 1 Tag(e) ab KaufdatumMehr erfahrenJetzt kaufen',\n",
       " '250 €1 Einheiten Christmas Party * Pole Dance / Chair Dance oder Aerial * Gültig 1 Tag(e) ab 1. BuchungMehr erfahrenJetzt kaufen',\n",
       " '95 €4 Einheiten 4er Karte Gültig 2 Monat(e) ab 1. BuchungMehr erfahrenJetzt kaufen',\n",
       " '60 €1 Einheiten Wedding Dance / Hochzeitstanz Privatstunde für 2 Person 60 Min. (ohne Pole)Gültig 1 Monat(e) ab 1. BuchungMehr erfahrenJetzt kaufen',\n",
       " '60 €4 Einheiten Oversplit + Backbend WorkshopGültig 3 Monat(e) ab 1. BuchungMehr erfahrenJetzt kaufen',\n",
       " '135 €8 Einheiten HEELS CAMP all workshops 4xGültig 1 Tag(e) ab Samstag, 11.02.2023Mehr erfahrenJetzt kaufen',\n",
       " '115 €8 Einheiten HEELS CAMP all workshops 4x (Mitgliederpreis)Gültig 1 Tag(e) ab Samstag, 11.02.2023Mehr erfahrenJetzt kaufen']"
      ]
     },
     "execution_count": 1,
     "metadata": {},
     "output_type": "execute_result"
    }
   ],
   "source": [
    "import requests\n",
    "from bs4 import BeautifulSoup\n",
    "\n",
    "url = 'https://www.eversports.de/sp/poda-studio'\n",
    "\n",
    "# Send a GET request to the webpage\n",
    "response = requests.get(url)\n",
    "\n",
    "# Parse the HTML content of the webpage\n",
    "soup = BeautifulSoup(response.content, 'html.parser')\n",
    "\n",
    "# Find the div container and extract its text content\n",
    "container = soup.find('div', class_='container profile-offers')\n",
    "items = container.find_all('div', class_='col-xs-12 col-sm-4')\n",
    "\n",
    "col_contents = [col.text.strip() for col in container.find_all('div', class_='col-xs-12 col-sm-4')]\n",
    "col_contents"
   ]
  },
  {
   "cell_type": "code",
   "execution_count": 2,
   "metadata": {},
   "outputs": [
    {
     "data": {
      "text/plain": [
       "[['Video Poda MembershipOnline Videos20,00 €\\xa0/ MonatLaufzeit: 1 MonatUnbegrenzte TeilnahmenMehr erfahrenJetzt abonnieren'],\n",
       " ['160 €10 Einheiten 10er Karte Fit & DanceGültig 6 Monat(e) ab KaufdatumMehr erfahrenJetzt kaufen'],\n",
       " ['18 €1 Einheiten 1er Karte Fit & DanceGültig 1 Monat(e) ab 1. BuchungMehr erfahrenJetzt kaufen'],\n",
       " ['225 €10 Einheiten 10er Karte Pole & AerialGültig 6 Monat(e) ab KaufdatumMehr erfahrenJetzt kaufen'],\n",
       " ['40 €3 Einheiten 3 Class Welcome PackageGültig 1 Monat(e) ab KaufdatumMehr erfahrenJetzt kaufen'],\n",
       " ['25 €1 Einheiten 1er Karte Pole & AerialGültig 1 Monat(e) ab 1. BuchungMehr erfahrenJetzt kaufen'],\n",
       " ['250 €1 Einheiten Party *Junggesellinnenabschied / Geburtstag * I Pole I Chair I Lapdance I Burlesque Gültig 2 Tag(e) ab 1. BuchungMehr erfahrenJetzt kaufen'],\n",
       " ['60 €3 Einheiten Online Privatstunde 60 Min. 1 PersonGültig 6 Tag(e) ab KaufdatumMehr erfahrenJetzt kaufen'],\n",
       " ['60 €1 Einheiten Privatstunde 1x 1 Person 60 Min.Gültig 1 Monat(e) ab 1. BuchungMehr erfahrenJetzt kaufen'],\n",
       " ['15 €1 Einheiten Probestunde 15€Gültig 1 Jahr(e) ab 1. BuchungMehr erfahrenJetzt kaufen'],\n",
       " ['35 €2 Einheiten Workshop Gültig 3 Monat(e) ab 1. BuchungMehr erfahrenJetzt kaufen'],\n",
       " ['15 €1 Tag(e)All Videos 1 DayGültig 1 Tag(e) ab KaufdatumMehr erfahrenJetzt kaufen'],\n",
       " ['250 €1 Einheiten Christmas Party * Pole Dance / Chair Dance oder Aerial * Gültig 1 Tag(e) ab 1. BuchungMehr erfahrenJetzt kaufen'],\n",
       " ['95 €4 Einheiten 4er Karte Gültig 2 Monat(e) ab 1. BuchungMehr erfahrenJetzt kaufen'],\n",
       " ['60 €1 Einheiten Wedding Dance / Hochzeitstanz Privatstunde für 2 Person 60 Min. (ohne Pole)Gültig 1 Monat(e) ab 1. BuchungMehr erfahrenJetzt kaufen'],\n",
       " ['60 €4 Einheiten Oversplit + Backbend WorkshopGültig 3 Monat(e) ab 1. BuchungMehr erfahrenJetzt kaufen'],\n",
       " ['135 €8 Einheiten HEELS CAMP all workshops 4xGültig 1 Tag(e) ab Samstag, 11.02.2023Mehr erfahrenJetzt kaufen'],\n",
       " ['115 €8 Einheiten HEELS CAMP all workshops 4x (Mitgliederpreis)Gültig 1 Tag(e) ab Samstag, 11.02.2023Mehr erfahrenJetzt kaufen']]"
      ]
     },
     "execution_count": 2,
     "metadata": {},
     "output_type": "execute_result"
    }
   ],
   "source": [
    "import re\n",
    "\n",
    "col_contents_1 = []\n",
    "\n",
    "for item in col_contents:\n",
    "    item = re.split(\"(€\\d+\\,\\d+\\s\\/\\s\\w+)\", item)\n",
    "    col_contents_1.append(item)\n",
    "\n",
    "col_contents_1"
   ]
  },
  {
   "cell_type": "code",
   "execution_count": null,
   "metadata": {},
   "outputs": [],
   "source": []
  },
  {
   "cell_type": "code",
   "execution_count": null,
   "metadata": {},
   "outputs": [],
   "source": []
  }
 ],
 "metadata": {
  "kernelspec": {
   "display_name": "base",
   "language": "python",
   "name": "python3"
  },
  "language_info": {
   "codemirror_mode": {
    "name": "ipython",
    "version": 3
   },
   "file_extension": ".py",
   "mimetype": "text/x-python",
   "name": "python",
   "nbconvert_exporter": "python",
   "pygments_lexer": "ipython3",
   "version": "3.10.9"
  },
  "orig_nbformat": 4
 },
 "nbformat": 4,
 "nbformat_minor": 2
}
